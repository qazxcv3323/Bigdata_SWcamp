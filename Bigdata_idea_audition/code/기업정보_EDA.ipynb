{
 "cells": [
  {
   "cell_type": "code",
   "execution_count": 9,
   "id": "87628e83",
   "metadata": {},
   "outputs": [],
   "source": [
    "import pandas as pd\n",
    "import matplotlib.pyplot as plt"
   ]
  },
  {
   "cell_type": "code",
   "execution_count": 15,
   "id": "c3c37ecb",
   "metadata": {
    "scrolled": false
   },
   "outputs": [],
   "source": [
    "기업정보상세_New = pd.read_csv('기업정보상세_New.csv')\n",
    "기업정보요약_New = pd.read_csv('기업정보요약_New.csv')\n",
    "재무제표정보_New = pd.read_csv('재무제표정보_New.csv')\n",
    "# 기업정보상세_New = pd.read_csv('기업정보상세_New.csv')"
   ]
  },
  {
   "cell_type": "code",
   "execution_count": 16,
   "id": "1a965f79",
   "metadata": {},
   "outputs": [
    {
     "data": {
      "text/html": [
       "<div>\n",
       "<style scoped>\n",
       "    .dataframe tbody tr th:only-of-type {\n",
       "        vertical-align: middle;\n",
       "    }\n",
       "\n",
       "    .dataframe tbody tr th {\n",
       "        vertical-align: top;\n",
       "    }\n",
       "\n",
       "    .dataframe thead th {\n",
       "        text-align: right;\n",
       "    }\n",
       "</style>\n",
       "<table border=\"1\" class=\"dataframe\">\n",
       "  <thead>\n",
       "    <tr style=\"text-align: right;\">\n",
       "      <th></th>\n",
       "      <th>Unnamed: 0</th>\n",
       "      <th>사업자등록번호</th>\n",
       "      <th>데이터수집일자</th>\n",
       "      <th>기업명</th>\n",
       "      <th>기업영문명</th>\n",
       "      <th>대표자명</th>\n",
       "      <th>종업원수</th>\n",
       "      <th>종업원수기준년월</th>\n",
       "      <th>산업분류코드</th>\n",
       "      <th>산업분류코드설명</th>\n",
       "      <th>...</th>\n",
       "      <th>CRI등급</th>\n",
       "      <th>CRI기준일</th>\n",
       "      <th>결산일자</th>\n",
       "      <th>매출액</th>\n",
       "      <th>영업이익</th>\n",
       "      <th>자본총계금액</th>\n",
       "      <th>부채총계금액</th>\n",
       "      <th>자산총계금액</th>\n",
       "      <th>작업구분코드</th>\n",
       "      <th>데이터생성일자</th>\n",
       "    </tr>\n",
       "  </thead>\n",
       "  <tbody>\n",
       "    <tr>\n",
       "      <th>0</th>\n",
       "      <td>0</td>\n",
       "      <td>1240400001</td>\n",
       "      <td>20211130.0</td>\n",
       "      <td>에스케이***</td>\n",
       "      <td>S K Telecom</td>\n",
       "      <td>신**</td>\n",
       "      <td>1.0</td>\n",
       "      <td>201605.0</td>\n",
       "      <td>47312.0</td>\n",
       "      <td>통신기기 소매업</td>\n",
       "      <td>...</td>\n",
       "      <td>C2</td>\n",
       "      <td>20211130.0</td>\n",
       "      <td>NaN</td>\n",
       "      <td>NaN</td>\n",
       "      <td>NaN</td>\n",
       "      <td>NaN</td>\n",
       "      <td>NaN</td>\n",
       "      <td>NaN</td>\n",
       "      <td>I</td>\n",
       "      <td>20221114</td>\n",
       "    </tr>\n",
       "    <tr>\n",
       "      <th>1</th>\n",
       "      <td>1</td>\n",
       "      <td>1242100002</td>\n",
       "      <td>20211130.0</td>\n",
       "      <td>에스케이***</td>\n",
       "      <td>SK Telecom</td>\n",
       "      <td>이**</td>\n",
       "      <td>NaN</td>\n",
       "      <td>NaN</td>\n",
       "      <td>47312.0</td>\n",
       "      <td>통신기기 소매업</td>\n",
       "      <td>...</td>\n",
       "      <td>C3</td>\n",
       "      <td>20211130.0</td>\n",
       "      <td>NaN</td>\n",
       "      <td>NaN</td>\n",
       "      <td>NaN</td>\n",
       "      <td>NaN</td>\n",
       "      <td>NaN</td>\n",
       "      <td>NaN</td>\n",
       "      <td>I</td>\n",
       "      <td>20221114</td>\n",
       "    </tr>\n",
       "  </tbody>\n",
       "</table>\n",
       "<p>2 rows × 25 columns</p>\n",
       "</div>"
      ],
      "text/plain": [
       "   Unnamed: 0     사업자등록번호     데이터수집일자      기업명        기업영문명 대표자명  종업원수  \\\n",
       "0           0  1240400001  20211130.0  에스케이***  S K Telecom  신**   1.0   \n",
       "1           1  1242100002  20211130.0  에스케이***   SK Telecom  이**   NaN   \n",
       "\n",
       "   종업원수기준년월   산업분류코드  산업분류코드설명  ... CRI등급      CRI기준일 결산일자  매출액  영업이익 자본총계금액  \\\n",
       "0  201605.0  47312.0  통신기기 소매업  ...    C2  20211130.0  NaN  NaN   NaN    NaN   \n",
       "1       NaN  47312.0  통신기기 소매업  ...    C3  20211130.0  NaN  NaN   NaN    NaN   \n",
       "\n",
       "   부채총계금액  자산총계금액  작업구분코드   데이터생성일자  \n",
       "0     NaN     NaN       I  20221114  \n",
       "1     NaN     NaN       I  20221114  \n",
       "\n",
       "[2 rows x 25 columns]"
      ]
     },
     "execution_count": 16,
     "metadata": {},
     "output_type": "execute_result"
    }
   ],
   "source": [
    "기업정보상세_New.head(2)\n",
    "# 기업정보상세_New.drop(columns='Unnamed: 0')"
   ]
  },
  {
   "cell_type": "code",
   "execution_count": 17,
   "id": "6f869d3b",
   "metadata": {},
   "outputs": [
    {
     "data": {
      "text/html": [
       "<div>\n",
       "<style scoped>\n",
       "    .dataframe tbody tr th:only-of-type {\n",
       "        vertical-align: middle;\n",
       "    }\n",
       "\n",
       "    .dataframe tbody tr th {\n",
       "        vertical-align: top;\n",
       "    }\n",
       "\n",
       "    .dataframe thead th {\n",
       "        text-align: right;\n",
       "    }\n",
       "</style>\n",
       "<table border=\"1\" class=\"dataframe\">\n",
       "  <thead>\n",
       "    <tr style=\"text-align: right;\">\n",
       "      <th></th>\n",
       "      <th>Unnamed: 0</th>\n",
       "      <th>사업자등록번호</th>\n",
       "      <th>순번</th>\n",
       "      <th>데이터수집일자</th>\n",
       "      <th>조사년도</th>\n",
       "      <th>재무보고서구분코드</th>\n",
       "      <th>재무보고서명칭</th>\n",
       "      <th>상세구분코드</th>\n",
       "      <th>상세구분명칭</th>\n",
       "      <th>재무제표기준년월</th>\n",
       "      <th>재무제표계정과목코드</th>\n",
       "      <th>재무제표계정과목명</th>\n",
       "      <th>재무제표계정과목금액</th>\n",
       "      <th>구성비율</th>\n",
       "      <th>증감율</th>\n",
       "      <th>작업구분코드</th>\n",
       "      <th>데이터생성일자</th>\n",
       "    </tr>\n",
       "  </thead>\n",
       "  <tbody>\n",
       "    <tr>\n",
       "      <th>0</th>\n",
       "      <td>5</td>\n",
       "      <td>1058200006</td>\n",
       "      <td>1</td>\n",
       "      <td>20220225.0</td>\n",
       "      <td>2020.0</td>\n",
       "      <td>2.0</td>\n",
       "      <td>손익계산서</td>\n",
       "      <td>anly</td>\n",
       "      <td>분석형</td>\n",
       "      <td>202002.0</td>\n",
       "      <td>M21000</td>\n",
       "      <td>매출액</td>\n",
       "      <td>59984210.0</td>\n",
       "      <td>100.00</td>\n",
       "      <td>-9.76</td>\n",
       "      <td>I</td>\n",
       "      <td>20221114</td>\n",
       "    </tr>\n",
       "    <tr>\n",
       "      <th>1</th>\n",
       "      <td>6</td>\n",
       "      <td>1058200006</td>\n",
       "      <td>2</td>\n",
       "      <td>20220225.0</td>\n",
       "      <td>2020.0</td>\n",
       "      <td>2.0</td>\n",
       "      <td>손익계산서</td>\n",
       "      <td>anly</td>\n",
       "      <td>분석형</td>\n",
       "      <td>202002.0</td>\n",
       "      <td>M25000</td>\n",
       "      <td>영업이익</td>\n",
       "      <td>2056670.0</td>\n",
       "      <td>3.43</td>\n",
       "      <td>-61.30</td>\n",
       "      <td>I</td>\n",
       "      <td>20221114</td>\n",
       "    </tr>\n",
       "  </tbody>\n",
       "</table>\n",
       "</div>"
      ],
      "text/plain": [
       "   Unnamed: 0     사업자등록번호  순번     데이터수집일자    조사년도  재무보고서구분코드 재무보고서명칭 상세구분코드  \\\n",
       "0           5  1058200006   1  20220225.0  2020.0        2.0   손익계산서   anly   \n",
       "1           6  1058200006   2  20220225.0  2020.0        2.0   손익계산서   anly   \n",
       "\n",
       "  상세구분명칭  재무제표기준년월 재무제표계정과목코드 재무제표계정과목명  재무제표계정과목금액    구성비율    증감율 작업구분코드  \\\n",
       "0    분석형  202002.0     M21000       매출액  59984210.0  100.00  -9.76      I   \n",
       "1    분석형  202002.0     M25000      영업이익   2056670.0    3.43 -61.30      I   \n",
       "\n",
       "    데이터생성일자  \n",
       "0  20221114  \n",
       "1  20221114  "
      ]
     },
     "execution_count": 17,
     "metadata": {},
     "output_type": "execute_result"
    }
   ],
   "source": [
    "재무제표정보_New.head(2)\n",
    "# 재무제표정보_New = 재무제표정보_New.drop(columns='Unnamed: 0')\n"
   ]
  },
  {
   "cell_type": "code",
   "execution_count": 18,
   "id": "7010f6b8",
   "metadata": {},
   "outputs": [
    {
     "data": {
      "text/plain": [
       "Index(['Unnamed: 0', '사업자등록번호', '데이터수집일자', '기업명', '대표자명', '주소', '기업형태', '기업규모',\n",
       "       '공기업구분', '산업분류코드', '산업분류코드설명', '작업구분코드', '데이터생성일자'],\n",
       "      dtype='object')"
      ]
     },
     "execution_count": 18,
     "metadata": {},
     "output_type": "execute_result"
    }
   ],
   "source": [
    "기업정보요약_New.columns"
   ]
  },
  {
   "cell_type": "code",
   "execution_count": 19,
   "id": "484b9fa0",
   "metadata": {},
   "outputs": [
    {
     "data": {
      "text/html": [
       "<div>\n",
       "<style scoped>\n",
       "    .dataframe tbody tr th:only-of-type {\n",
       "        vertical-align: middle;\n",
       "    }\n",
       "\n",
       "    .dataframe tbody tr th {\n",
       "        vertical-align: top;\n",
       "    }\n",
       "\n",
       "    .dataframe thead th {\n",
       "        text-align: right;\n",
       "    }\n",
       "</style>\n",
       "<table border=\"1\" class=\"dataframe\">\n",
       "  <thead>\n",
       "    <tr style=\"text-align: right;\">\n",
       "      <th></th>\n",
       "      <th>Unnamed: 0</th>\n",
       "      <th>사업자등록번호</th>\n",
       "      <th>데이터수집일자</th>\n",
       "      <th>기업명</th>\n",
       "      <th>대표자명</th>\n",
       "      <th>주소</th>\n",
       "      <th>기업형태</th>\n",
       "      <th>기업규모</th>\n",
       "      <th>공기업구분</th>\n",
       "      <th>산업분류코드</th>\n",
       "      <th>산업분류코드설명</th>\n",
       "      <th>작업구분코드</th>\n",
       "      <th>데이터생성일자</th>\n",
       "    </tr>\n",
       "  </thead>\n",
       "  <tbody>\n",
       "    <tr>\n",
       "      <th>0</th>\n",
       "      <td>0</td>\n",
       "      <td>1240400001</td>\n",
       "      <td>20211229.0</td>\n",
       "      <td>에스케이***</td>\n",
       "      <td>신**</td>\n",
       "      <td>경기 화성시 송산면 사강로</td>\n",
       "      <td>일반</td>\n",
       "      <td>중소기업</td>\n",
       "      <td>중소기업</td>\n",
       "      <td>47312.0</td>\n",
       "      <td>통신기기 소매업</td>\n",
       "      <td>I</td>\n",
       "      <td>20221114</td>\n",
       "    </tr>\n",
       "    <tr>\n",
       "      <th>1</th>\n",
       "      <td>1</td>\n",
       "      <td>1242100002</td>\n",
       "      <td>20211229.0</td>\n",
       "      <td>에스케이***</td>\n",
       "      <td>이**</td>\n",
       "      <td>경기도 수원시 영통구 매영로</td>\n",
       "      <td>일반</td>\n",
       "      <td>중소기업</td>\n",
       "      <td>중소기업</td>\n",
       "      <td>47312.0</td>\n",
       "      <td>통신기기 소매업</td>\n",
       "      <td>I</td>\n",
       "      <td>20221114</td>\n",
       "    </tr>\n",
       "  </tbody>\n",
       "</table>\n",
       "</div>"
      ],
      "text/plain": [
       "   Unnamed: 0     사업자등록번호     데이터수집일자      기업명 대표자명               주소 기업형태  \\\n",
       "0           0  1240400001  20211229.0  에스케이***  신**   경기 화성시 송산면 사강로   일반   \n",
       "1           1  1242100002  20211229.0  에스케이***  이**  경기도 수원시 영통구 매영로   일반   \n",
       "\n",
       "   기업규모 공기업구분   산업분류코드  산업분류코드설명 작업구분코드   데이터생성일자  \n",
       "0  중소기업  중소기업  47312.0  통신기기 소매업      I  20221114  \n",
       "1  중소기업  중소기업  47312.0  통신기기 소매업      I  20221114  "
      ]
     },
     "execution_count": 19,
     "metadata": {},
     "output_type": "execute_result"
    }
   ],
   "source": [
    "기업정보요약_New.head(2)\n",
    "#기업정보요약_New.drop(columns='Unnamed: 0')"
   ]
  },
  {
   "cell_type": "code",
   "execution_count": 20,
   "id": "87d3a2e0",
   "metadata": {},
   "outputs": [
    {
     "name": "stdout",
     "output_type": "stream",
     "text": [
      "<class 'pandas.core.frame.DataFrame'>\n",
      "Int64Index: 127564 entries, 0 to 127563\n",
      "Data columns (total 39 columns):\n",
      " #   Column        Non-Null Count   Dtype  \n",
      "---  ------        --------------   -----  \n",
      " 0   Unnamed: 0_x  127564 non-null  int64  \n",
      " 1   사업자등록번호       127564 non-null  int64  \n",
      " 2   데이터수집일자_x     127564 non-null  float64\n",
      " 3   기업명           127564 non-null  object \n",
      " 4   기업영문명         65759 non-null   object \n",
      " 5   대표자명          127564 non-null  object \n",
      " 6   종업원수          125258 non-null  float64\n",
      " 7   종업원수기준년월      125183 non-null  float64\n",
      " 8   산업분류코드        127564 non-null  float64\n",
      " 9   산업분류코드설명      127564 non-null  object \n",
      " 10  기업규모          127528 non-null  object \n",
      " 11  기업형태          127564 non-null  object \n",
      " 12  업태명           122129 non-null  object \n",
      " 13  설립일           126372 non-null  float64\n",
      " 14  상태발생일자        711 non-null     float64\n",
      " 15  CRI등급         127564 non-null  object \n",
      " 16  CRI기준일        67054 non-null   float64\n",
      " 17  결산일자          66081 non-null   float64\n",
      " 18  매출액           65668 non-null   float64\n",
      " 19  영업이익          66036 non-null   float64\n",
      " 20  자본총계금액        66046 non-null   float64\n",
      " 21  부채총계금액        66017 non-null   float64\n",
      " 22  자산총계금액        66067 non-null   float64\n",
      " 23  작업구분코드        127564 non-null  object \n",
      " 24  데이터생성일자       127564 non-null  int64  \n",
      " 25  Unnamed: 0_y  127564 non-null  int64  \n",
      " 26  순번            127564 non-null  int64  \n",
      " 27  데이터수집일자_y     127564 non-null  float64\n",
      " 28  조사년도          127564 non-null  float64\n",
      " 29  재무보고서구분코드     127564 non-null  float64\n",
      " 30  재무보고서명칭       127564 non-null  object \n",
      " 31  상세구분코드        127564 non-null  object \n",
      " 32  상세구분명칭        127564 non-null  object \n",
      " 33  재무제표기준년월      127564 non-null  float64\n",
      " 34  재무제표계정과목코드    127564 non-null  object \n",
      " 35  재무제표계정과목명     127564 non-null  object \n",
      " 36  재무제표계정과목금액    127564 non-null  float64\n",
      " 37  구성비율          127564 non-null  float64\n",
      " 38  증감율           127564 non-null  float64\n",
      "dtypes: float64(20), int64(5), object(14)\n",
      "memory usage: 38.9+ MB\n"
     ]
    }
   ],
   "source": [
    "p1 = pd.merge(기업정보상세_New,재무제표정보_New, on=['사업자등록번호', '작업구분코드', '데이터생성일자'], how='inner')\n",
    "# .merge(기업정보요약_New, on=['사업자등록번호','데이터수집일자', '기업형태' ])\n",
    "p1['산업분류코드설명'].value_counts()\n",
    "p1.isnull().sum()\n",
    "p1.info() # 127564 "
   ]
  },
  {
   "cell_type": "code",
   "execution_count": 21,
   "id": "7937a2a2",
   "metadata": {},
   "outputs": [
    {
     "data": {
      "text/plain": [
       "Index(['Unnamed: 0_x', '사업자등록번호', '데이터수집일자_x', '기업명', '기업영문명', '대표자명', '종업원수',\n",
       "       '종업원수기준년월', '산업분류코드', '산업분류코드설명', '기업규모', '기업형태', '업태명', '설립일',\n",
       "       '상태발생일자', 'CRI등급', 'CRI기준일', '결산일자', '매출액', '영업이익', '자본총계금액', '부채총계금액',\n",
       "       '자산총계금액', '작업구분코드', '데이터생성일자', 'Unnamed: 0_y', '순번', '데이터수집일자_y',\n",
       "       '조사년도', '재무보고서구분코드', '재무보고서명칭', '상세구분코드', '상세구분명칭', '재무제표기준년월',\n",
       "       '재무제표계정과목코드', '재무제표계정과목명', '재무제표계정과목금액', '구성비율', '증감율'],\n",
       "      dtype='object')"
      ]
     },
     "execution_count": 21,
     "metadata": {},
     "output_type": "execute_result"
    }
   ],
   "source": [
    "p1.columns"
   ]
  },
  {
   "cell_type": "code",
   "execution_count": 22,
   "id": "0c44c2cc",
   "metadata": {},
   "outputs": [
    {
     "data": {
      "text/html": [
       "<div>\n",
       "<style scoped>\n",
       "    .dataframe tbody tr th:only-of-type {\n",
       "        vertical-align: middle;\n",
       "    }\n",
       "\n",
       "    .dataframe tbody tr th {\n",
       "        vertical-align: top;\n",
       "    }\n",
       "\n",
       "    .dataframe thead th {\n",
       "        text-align: right;\n",
       "    }\n",
       "</style>\n",
       "<table border=\"1\" class=\"dataframe\">\n",
       "  <thead>\n",
       "    <tr style=\"text-align: right;\">\n",
       "      <th></th>\n",
       "      <th>Unnamed: 0_x</th>\n",
       "      <th>사업자등록번호</th>\n",
       "      <th>기업명</th>\n",
       "      <th>기업영문명</th>\n",
       "      <th>대표자명</th>\n",
       "      <th>종업원수</th>\n",
       "      <th>종업원수기준년월</th>\n",
       "      <th>산업분류코드</th>\n",
       "      <th>산업분류코드설명</th>\n",
       "      <th>기업규모</th>\n",
       "      <th>...</th>\n",
       "      <th>재무보고서구분코드</th>\n",
       "      <th>재무보고서명칭</th>\n",
       "      <th>상세구분코드</th>\n",
       "      <th>상세구분명칭</th>\n",
       "      <th>재무제표기준년월</th>\n",
       "      <th>재무제표계정과목코드</th>\n",
       "      <th>재무제표계정과목명</th>\n",
       "      <th>재무제표계정과목금액</th>\n",
       "      <th>구성비율</th>\n",
       "      <th>증감율</th>\n",
       "    </tr>\n",
       "  </thead>\n",
       "  <tbody>\n",
       "    <tr>\n",
       "      <th>0</th>\n",
       "      <td>5</td>\n",
       "      <td>1058200006</td>\n",
       "      <td>서강대학교산학***</td>\n",
       "      <td>NaN</td>\n",
       "      <td>정**</td>\n",
       "      <td>39.0</td>\n",
       "      <td>202205.0</td>\n",
       "      <td>75919.0</td>\n",
       "      <td>기타 사무지원 서비스업</td>\n",
       "      <td>기타(비영리법인)</td>\n",
       "      <td>...</td>\n",
       "      <td>2.0</td>\n",
       "      <td>손익계산서</td>\n",
       "      <td>anly</td>\n",
       "      <td>분석형</td>\n",
       "      <td>202002.0</td>\n",
       "      <td>M21000</td>\n",
       "      <td>매출액</td>\n",
       "      <td>59984210.0</td>\n",
       "      <td>100.00</td>\n",
       "      <td>-9.76</td>\n",
       "    </tr>\n",
       "    <tr>\n",
       "      <th>1</th>\n",
       "      <td>5</td>\n",
       "      <td>1058200006</td>\n",
       "      <td>서강대학교산학***</td>\n",
       "      <td>NaN</td>\n",
       "      <td>정**</td>\n",
       "      <td>39.0</td>\n",
       "      <td>202205.0</td>\n",
       "      <td>75919.0</td>\n",
       "      <td>기타 사무지원 서비스업</td>\n",
       "      <td>기타(비영리법인)</td>\n",
       "      <td>...</td>\n",
       "      <td>2.0</td>\n",
       "      <td>손익계산서</td>\n",
       "      <td>anly</td>\n",
       "      <td>분석형</td>\n",
       "      <td>202002.0</td>\n",
       "      <td>M25000</td>\n",
       "      <td>영업이익</td>\n",
       "      <td>2056670.0</td>\n",
       "      <td>3.43</td>\n",
       "      <td>-61.30</td>\n",
       "    </tr>\n",
       "    <tr>\n",
       "      <th>2</th>\n",
       "      <td>5</td>\n",
       "      <td>1058200006</td>\n",
       "      <td>서강대학교산학***</td>\n",
       "      <td>NaN</td>\n",
       "      <td>정**</td>\n",
       "      <td>39.0</td>\n",
       "      <td>202205.0</td>\n",
       "      <td>75919.0</td>\n",
       "      <td>기타 사무지원 서비스업</td>\n",
       "      <td>기타(비영리법인)</td>\n",
       "      <td>...</td>\n",
       "      <td>2.0</td>\n",
       "      <td>손익계산서</td>\n",
       "      <td>anly</td>\n",
       "      <td>분석형</td>\n",
       "      <td>202002.0</td>\n",
       "      <td>M29900</td>\n",
       "      <td>당기순이익</td>\n",
       "      <td>-2837018.0</td>\n",
       "      <td>-4.73</td>\n",
       "      <td>-693.89</td>\n",
       "    </tr>\n",
       "    <tr>\n",
       "      <th>3</th>\n",
       "      <td>5</td>\n",
       "      <td>1058200006</td>\n",
       "      <td>서강대학교산학***</td>\n",
       "      <td>NaN</td>\n",
       "      <td>정**</td>\n",
       "      <td>39.0</td>\n",
       "      <td>202205.0</td>\n",
       "      <td>75919.0</td>\n",
       "      <td>기타 사무지원 서비스업</td>\n",
       "      <td>기타(비영리법인)</td>\n",
       "      <td>...</td>\n",
       "      <td>2.0</td>\n",
       "      <td>손익계산서</td>\n",
       "      <td>anly</td>\n",
       "      <td>분석형</td>\n",
       "      <td>201902.0</td>\n",
       "      <td>M21000</td>\n",
       "      <td>매출액</td>\n",
       "      <td>66473075.0</td>\n",
       "      <td>100.00</td>\n",
       "      <td>-3.03</td>\n",
       "    </tr>\n",
       "    <tr>\n",
       "      <th>4</th>\n",
       "      <td>5</td>\n",
       "      <td>1058200006</td>\n",
       "      <td>서강대학교산학***</td>\n",
       "      <td>NaN</td>\n",
       "      <td>정**</td>\n",
       "      <td>39.0</td>\n",
       "      <td>202205.0</td>\n",
       "      <td>75919.0</td>\n",
       "      <td>기타 사무지원 서비스업</td>\n",
       "      <td>기타(비영리법인)</td>\n",
       "      <td>...</td>\n",
       "      <td>2.0</td>\n",
       "      <td>손익계산서</td>\n",
       "      <td>anly</td>\n",
       "      <td>분석형</td>\n",
       "      <td>201902.0</td>\n",
       "      <td>M25000</td>\n",
       "      <td>영업이익</td>\n",
       "      <td>5314594.0</td>\n",
       "      <td>8.00</td>\n",
       "      <td>0.11</td>\n",
       "    </tr>\n",
       "    <tr>\n",
       "      <th>...</th>\n",
       "      <td>...</td>\n",
       "      <td>...</td>\n",
       "      <td>...</td>\n",
       "      <td>...</td>\n",
       "      <td>...</td>\n",
       "      <td>...</td>\n",
       "      <td>...</td>\n",
       "      <td>...</td>\n",
       "      <td>...</td>\n",
       "      <td>...</td>\n",
       "      <td>...</td>\n",
       "      <td>...</td>\n",
       "      <td>...</td>\n",
       "      <td>...</td>\n",
       "      <td>...</td>\n",
       "      <td>...</td>\n",
       "      <td>...</td>\n",
       "      <td>...</td>\n",
       "      <td>...</td>\n",
       "      <td>...</td>\n",
       "      <td>...</td>\n",
       "    </tr>\n",
       "    <tr>\n",
       "      <th>127559</th>\n",
       "      <td>18645</td>\n",
       "      <td>5088109999</td>\n",
       "      <td>(주)서부조***</td>\n",
       "      <td>Seobu Landscape Development Co., Ltd</td>\n",
       "      <td>김**</td>\n",
       "      <td>11.0</td>\n",
       "      <td>202202.0</td>\n",
       "      <td>42499.0</td>\n",
       "      <td>그 외 기타 건축 마무리 공사업</td>\n",
       "      <td>중소기업</td>\n",
       "      <td>...</td>\n",
       "      <td>2.0</td>\n",
       "      <td>손익계산서</td>\n",
       "      <td>anly</td>\n",
       "      <td>분석형</td>\n",
       "      <td>201812.0</td>\n",
       "      <td>M29900</td>\n",
       "      <td>당기순이익</td>\n",
       "      <td>78788.0</td>\n",
       "      <td>2.58</td>\n",
       "      <td>-260.46</td>\n",
       "    </tr>\n",
       "    <tr>\n",
       "      <th>127560</th>\n",
       "      <td>18645</td>\n",
       "      <td>5088109999</td>\n",
       "      <td>(주)서부조***</td>\n",
       "      <td>Seobu Landscape Development Co., Ltd</td>\n",
       "      <td>김**</td>\n",
       "      <td>11.0</td>\n",
       "      <td>202202.0</td>\n",
       "      <td>42499.0</td>\n",
       "      <td>그 외 기타 건축 마무리 공사업</td>\n",
       "      <td>중소기업</td>\n",
       "      <td>...</td>\n",
       "      <td>2.0</td>\n",
       "      <td>손익계산서</td>\n",
       "      <td>anly</td>\n",
       "      <td>분석형</td>\n",
       "      <td>201812.0</td>\n",
       "      <td>M25000</td>\n",
       "      <td>영업이익</td>\n",
       "      <td>97863.0</td>\n",
       "      <td>3.21</td>\n",
       "      <td>288.15</td>\n",
       "    </tr>\n",
       "    <tr>\n",
       "      <th>127561</th>\n",
       "      <td>18645</td>\n",
       "      <td>5088109999</td>\n",
       "      <td>(주)서부조***</td>\n",
       "      <td>Seobu Landscape Development Co., Ltd</td>\n",
       "      <td>김**</td>\n",
       "      <td>11.0</td>\n",
       "      <td>202202.0</td>\n",
       "      <td>42499.0</td>\n",
       "      <td>그 외 기타 건축 마무리 공사업</td>\n",
       "      <td>중소기업</td>\n",
       "      <td>...</td>\n",
       "      <td>2.0</td>\n",
       "      <td>손익계산서</td>\n",
       "      <td>anly</td>\n",
       "      <td>분석형</td>\n",
       "      <td>201712.0</td>\n",
       "      <td>M21000</td>\n",
       "      <td>매출액</td>\n",
       "      <td>2694589.0</td>\n",
       "      <td>100.00</td>\n",
       "      <td>-59.23</td>\n",
       "    </tr>\n",
       "    <tr>\n",
       "      <th>127562</th>\n",
       "      <td>18645</td>\n",
       "      <td>5088109999</td>\n",
       "      <td>(주)서부조***</td>\n",
       "      <td>Seobu Landscape Development Co., Ltd</td>\n",
       "      <td>김**</td>\n",
       "      <td>11.0</td>\n",
       "      <td>202202.0</td>\n",
       "      <td>42499.0</td>\n",
       "      <td>그 외 기타 건축 마무리 공사업</td>\n",
       "      <td>중소기업</td>\n",
       "      <td>...</td>\n",
       "      <td>2.0</td>\n",
       "      <td>손익계산서</td>\n",
       "      <td>anly</td>\n",
       "      <td>분석형</td>\n",
       "      <td>201712.0</td>\n",
       "      <td>M29900</td>\n",
       "      <td>당기순이익</td>\n",
       "      <td>-49102.0</td>\n",
       "      <td>-1.82</td>\n",
       "      <td>-106.99</td>\n",
       "    </tr>\n",
       "    <tr>\n",
       "      <th>127563</th>\n",
       "      <td>18645</td>\n",
       "      <td>5088109999</td>\n",
       "      <td>(주)서부조***</td>\n",
       "      <td>Seobu Landscape Development Co., Ltd</td>\n",
       "      <td>김**</td>\n",
       "      <td>11.0</td>\n",
       "      <td>202202.0</td>\n",
       "      <td>42499.0</td>\n",
       "      <td>그 외 기타 건축 마무리 공사업</td>\n",
       "      <td>중소기업</td>\n",
       "      <td>...</td>\n",
       "      <td>2.0</td>\n",
       "      <td>손익계산서</td>\n",
       "      <td>anly</td>\n",
       "      <td>분석형</td>\n",
       "      <td>201712.0</td>\n",
       "      <td>M25000</td>\n",
       "      <td>영업이익</td>\n",
       "      <td>25213.0</td>\n",
       "      <td>0.94</td>\n",
       "      <td>-96.57</td>\n",
       "    </tr>\n",
       "  </tbody>\n",
       "</table>\n",
       "<p>127564 rows × 37 columns</p>\n",
       "</div>"
      ],
      "text/plain": [
       "        Unnamed: 0_x     사업자등록번호         기업명  \\\n",
       "0                  5  1058200006  서강대학교산학***   \n",
       "1                  5  1058200006  서강대학교산학***   \n",
       "2                  5  1058200006  서강대학교산학***   \n",
       "3                  5  1058200006  서강대학교산학***   \n",
       "4                  5  1058200006  서강대학교산학***   \n",
       "...              ...         ...         ...   \n",
       "127559         18645  5088109999   (주)서부조***   \n",
       "127560         18645  5088109999   (주)서부조***   \n",
       "127561         18645  5088109999   (주)서부조***   \n",
       "127562         18645  5088109999   (주)서부조***   \n",
       "127563         18645  5088109999   (주)서부조***   \n",
       "\n",
       "                                       기업영문명 대표자명  종업원수  종업원수기준년월   산업분류코드  \\\n",
       "0                                        NaN  정**  39.0  202205.0  75919.0   \n",
       "1                                        NaN  정**  39.0  202205.0  75919.0   \n",
       "2                                        NaN  정**  39.0  202205.0  75919.0   \n",
       "3                                        NaN  정**  39.0  202205.0  75919.0   \n",
       "4                                        NaN  정**  39.0  202205.0  75919.0   \n",
       "...                                      ...  ...   ...       ...      ...   \n",
       "127559  Seobu Landscape Development Co., Ltd  김**  11.0  202202.0  42499.0   \n",
       "127560  Seobu Landscape Development Co., Ltd  김**  11.0  202202.0  42499.0   \n",
       "127561  Seobu Landscape Development Co., Ltd  김**  11.0  202202.0  42499.0   \n",
       "127562  Seobu Landscape Development Co., Ltd  김**  11.0  202202.0  42499.0   \n",
       "127563  Seobu Landscape Development Co., Ltd  김**  11.0  202202.0  42499.0   \n",
       "\n",
       "                 산업분류코드설명       기업규모  ... 재무보고서구분코드 재무보고서명칭  상세구분코드  상세구분명칭  \\\n",
       "0            기타 사무지원 서비스업  기타(비영리법인)  ...       2.0   손익계산서    anly     분석형   \n",
       "1            기타 사무지원 서비스업  기타(비영리법인)  ...       2.0   손익계산서    anly     분석형   \n",
       "2            기타 사무지원 서비스업  기타(비영리법인)  ...       2.0   손익계산서    anly     분석형   \n",
       "3            기타 사무지원 서비스업  기타(비영리법인)  ...       2.0   손익계산서    anly     분석형   \n",
       "4            기타 사무지원 서비스업  기타(비영리법인)  ...       2.0   손익계산서    anly     분석형   \n",
       "...                   ...        ...  ...       ...     ...     ...     ...   \n",
       "127559  그 외 기타 건축 마무리 공사업       중소기업  ...       2.0   손익계산서    anly     분석형   \n",
       "127560  그 외 기타 건축 마무리 공사업       중소기업  ...       2.0   손익계산서    anly     분석형   \n",
       "127561  그 외 기타 건축 마무리 공사업       중소기업  ...       2.0   손익계산서    anly     분석형   \n",
       "127562  그 외 기타 건축 마무리 공사업       중소기업  ...       2.0   손익계산서    anly     분석형   \n",
       "127563  그 외 기타 건축 마무리 공사업       중소기업  ...       2.0   손익계산서    anly     분석형   \n",
       "\n",
       "        재무제표기준년월  재무제표계정과목코드  재무제표계정과목명  재무제표계정과목금액    구성비율     증감율  \n",
       "0       202002.0      M21000        매출액  59984210.0  100.00   -9.76  \n",
       "1       202002.0      M25000       영업이익   2056670.0    3.43  -61.30  \n",
       "2       202002.0      M29900      당기순이익  -2837018.0   -4.73 -693.89  \n",
       "3       201902.0      M21000        매출액  66473075.0  100.00   -3.03  \n",
       "4       201902.0      M25000       영업이익   5314594.0    8.00    0.11  \n",
       "...          ...         ...        ...         ...     ...     ...  \n",
       "127559  201812.0      M29900      당기순이익     78788.0    2.58 -260.46  \n",
       "127560  201812.0      M25000       영업이익     97863.0    3.21  288.15  \n",
       "127561  201712.0      M21000        매출액   2694589.0  100.00  -59.23  \n",
       "127562  201712.0      M29900      당기순이익    -49102.0   -1.82 -106.99  \n",
       "127563  201712.0      M25000       영업이익     25213.0    0.94  -96.57  \n",
       "\n",
       "[127564 rows x 37 columns]"
      ]
     },
     "execution_count": 22,
     "metadata": {},
     "output_type": "execute_result"
    }
   ],
   "source": [
    "# p1[['데이터수집일자_x', '데이터수집일자_y']]\n",
    "p1[['데이터수집일자_x', '데이터수집일자_y']]\n",
    "p1.drop(columns=['데이터수집일자_x', '데이터수집일자_y'])"
   ]
  },
  {
   "cell_type": "code",
   "execution_count": 23,
   "id": "caca05dc",
   "metadata": {},
   "outputs": [
    {
     "data": {
      "text/html": [
       "<div>\n",
       "<style scoped>\n",
       "    .dataframe tbody tr th:only-of-type {\n",
       "        vertical-align: middle;\n",
       "    }\n",
       "\n",
       "    .dataframe tbody tr th {\n",
       "        vertical-align: top;\n",
       "    }\n",
       "\n",
       "    .dataframe thead th {\n",
       "        text-align: right;\n",
       "    }\n",
       "</style>\n",
       "<table border=\"1\" class=\"dataframe\">\n",
       "  <thead>\n",
       "    <tr style=\"text-align: right;\">\n",
       "      <th></th>\n",
       "      <th>Unnamed: 0_x</th>\n",
       "      <th>사업자등록번호</th>\n",
       "      <th>데이터수집일자_x</th>\n",
       "      <th>기업명</th>\n",
       "      <th>기업영문명</th>\n",
       "      <th>대표자명</th>\n",
       "      <th>종업원수</th>\n",
       "      <th>종업원수기준년월</th>\n",
       "      <th>산업분류코드</th>\n",
       "      <th>산업분류코드설명</th>\n",
       "      <th>...</th>\n",
       "      <th>재무보고서구분코드</th>\n",
       "      <th>재무보고서명칭</th>\n",
       "      <th>상세구분코드</th>\n",
       "      <th>상세구분명칭</th>\n",
       "      <th>재무제표기준년월</th>\n",
       "      <th>재무제표계정과목코드</th>\n",
       "      <th>재무제표계정과목명</th>\n",
       "      <th>재무제표계정과목금액</th>\n",
       "      <th>구성비율</th>\n",
       "      <th>증감율</th>\n",
       "    </tr>\n",
       "  </thead>\n",
       "  <tbody>\n",
       "    <tr>\n",
       "      <th>0</th>\n",
       "      <td>5</td>\n",
       "      <td>1058200006</td>\n",
       "      <td>20221022.0</td>\n",
       "      <td>서강대학교산학***</td>\n",
       "      <td>NaN</td>\n",
       "      <td>정**</td>\n",
       "      <td>39.0</td>\n",
       "      <td>202205.0</td>\n",
       "      <td>75919.0</td>\n",
       "      <td>기타 사무지원 서비스업</td>\n",
       "      <td>...</td>\n",
       "      <td>2.0</td>\n",
       "      <td>손익계산서</td>\n",
       "      <td>anly</td>\n",
       "      <td>분석형</td>\n",
       "      <td>202002.0</td>\n",
       "      <td>M21000</td>\n",
       "      <td>매출액</td>\n",
       "      <td>59984210.0</td>\n",
       "      <td>100.00</td>\n",
       "      <td>-9.76</td>\n",
       "    </tr>\n",
       "    <tr>\n",
       "      <th>1</th>\n",
       "      <td>5</td>\n",
       "      <td>1058200006</td>\n",
       "      <td>20221022.0</td>\n",
       "      <td>서강대학교산학***</td>\n",
       "      <td>NaN</td>\n",
       "      <td>정**</td>\n",
       "      <td>39.0</td>\n",
       "      <td>202205.0</td>\n",
       "      <td>75919.0</td>\n",
       "      <td>기타 사무지원 서비스업</td>\n",
       "      <td>...</td>\n",
       "      <td>2.0</td>\n",
       "      <td>손익계산서</td>\n",
       "      <td>anly</td>\n",
       "      <td>분석형</td>\n",
       "      <td>202002.0</td>\n",
       "      <td>M25000</td>\n",
       "      <td>영업이익</td>\n",
       "      <td>2056670.0</td>\n",
       "      <td>3.43</td>\n",
       "      <td>-61.30</td>\n",
       "    </tr>\n",
       "  </tbody>\n",
       "</table>\n",
       "<p>2 rows × 39 columns</p>\n",
       "</div>"
      ],
      "text/plain": [
       "   Unnamed: 0_x     사업자등록번호   데이터수집일자_x         기업명 기업영문명 대표자명  종업원수  \\\n",
       "0             5  1058200006  20221022.0  서강대학교산학***   NaN  정**  39.0   \n",
       "1             5  1058200006  20221022.0  서강대학교산학***   NaN  정**  39.0   \n",
       "\n",
       "   종업원수기준년월   산업분류코드      산업분류코드설명  ... 재무보고서구분코드 재무보고서명칭 상세구분코드  상세구분명칭  \\\n",
       "0  202205.0  75919.0  기타 사무지원 서비스업  ...       2.0   손익계산서   anly     분석형   \n",
       "1  202205.0  75919.0  기타 사무지원 서비스업  ...       2.0   손익계산서   anly     분석형   \n",
       "\n",
       "   재무제표기준년월 재무제표계정과목코드  재무제표계정과목명  재무제표계정과목금액    구성비율    증감율  \n",
       "0  202002.0     M21000        매출액  59984210.0  100.00  -9.76  \n",
       "1  202002.0     M25000       영업이익   2056670.0    3.43 -61.30  \n",
       "\n",
       "[2 rows x 39 columns]"
      ]
     },
     "execution_count": 23,
     "metadata": {},
     "output_type": "execute_result"
    }
   ],
   "source": [
    "p1.head(2)"
   ]
  },
  {
   "cell_type": "code",
   "execution_count": 24,
   "id": "e3851487",
   "metadata": {},
   "outputs": [],
   "source": [
    "p1.to_csv('first_result.csv', encoding='utf-8-sig')"
   ]
  },
  {
   "cell_type": "markdown",
   "id": "30853223",
   "metadata": {},
   "source": [
    "result_데이터생성일자 = 0\n",
    "result_데이터수집일자 = 0\n",
    "\n",
    "for i in range(len(p1)):\n",
    "    if p1['데이터생성일자_x'][i] == p1['데이터생성일자_y'][i]:\n",
    "        result_데이터생성일자 += 1\n",
    "    elif p1['데이터수집일자_x'][i] == p1['데이터수집일자_y'][i]:\n",
    "        result_데이터수집일자 += 1\n",
    "    else:\n",
    "        continue\n",
    "        \n",
    "print(f'result_데이터생성일자 : {result_데이터생성일자}, result_데이터수집일자 : {result_데이터수집일자}') # 127564 \n",
    "\n",
    "# 데이터수집일자는 같은 것이없으므로 일단 Drop"
   ]
  },
  {
   "cell_type": "code",
   "execution_count": 25,
   "id": "0413fb36",
   "metadata": {},
   "outputs": [
    {
     "data": {
      "text/plain": [
       "Index(['Unnamed: 0_x', '사업자등록번호', '데이터수집일자_x', '기업명', '기업영문명', '대표자명', '종업원수',\n",
       "       '종업원수기준년월', '산업분류코드', '산업분류코드설명', '기업규모', '기업형태', '업태명', '설립일',\n",
       "       '상태발생일자', 'CRI등급', 'CRI기준일', '결산일자', '매출액', '영업이익', '자본총계금액', '부채총계금액',\n",
       "       '자산총계금액', '작업구분코드', '데이터생성일자', 'Unnamed: 0_y', '순번', '데이터수집일자_y',\n",
       "       '조사년도', '재무보고서구분코드', '재무보고서명칭', '상세구분코드', '상세구분명칭', '재무제표기준년월',\n",
       "       '재무제표계정과목코드', '재무제표계정과목명', '재무제표계정과목금액', '구성비율', '증감율'],\n",
       "      dtype='object')"
      ]
     },
     "execution_count": 25,
     "metadata": {},
     "output_type": "execute_result"
    }
   ],
   "source": [
    "p1.columns"
   ]
  },
  {
   "cell_type": "code",
   "execution_count": 26,
   "id": "e4ebfd36",
   "metadata": {},
   "outputs": [
    {
     "name": "stdout",
     "output_type": "stream",
     "text": [
      "<class 'pandas.core.frame.DataFrame'>\n",
      "Int64Index: 127564 entries, 0 to 127563\n",
      "Data columns (total 39 columns):\n",
      " #   Column        Non-Null Count   Dtype  \n",
      "---  ------        --------------   -----  \n",
      " 0   Unnamed: 0_x  127564 non-null  int64  \n",
      " 1   사업자등록번호       127564 non-null  int64  \n",
      " 2   데이터수집일자_x     127564 non-null  float64\n",
      " 3   기업명           127564 non-null  object \n",
      " 4   기업영문명         65759 non-null   object \n",
      " 5   대표자명          127564 non-null  object \n",
      " 6   종업원수          125258 non-null  float64\n",
      " 7   종업원수기준년월      125183 non-null  float64\n",
      " 8   산업분류코드        127564 non-null  float64\n",
      " 9   산업분류코드설명      127564 non-null  object \n",
      " 10  기업규모          127528 non-null  object \n",
      " 11  기업형태          127564 non-null  object \n",
      " 12  업태명           122129 non-null  object \n",
      " 13  설립일           126372 non-null  float64\n",
      " 14  상태발생일자        711 non-null     float64\n",
      " 15  CRI등급         127564 non-null  object \n",
      " 16  CRI기준일        67054 non-null   float64\n",
      " 17  결산일자          66081 non-null   float64\n",
      " 18  매출액           65668 non-null   float64\n",
      " 19  영업이익          66036 non-null   float64\n",
      " 20  자본총계금액        66046 non-null   float64\n",
      " 21  부채총계금액        66017 non-null   float64\n",
      " 22  자산총계금액        66067 non-null   float64\n",
      " 23  작업구분코드        127564 non-null  object \n",
      " 24  데이터생성일자       127564 non-null  int64  \n",
      " 25  Unnamed: 0_y  127564 non-null  int64  \n",
      " 26  순번            127564 non-null  int64  \n",
      " 27  데이터수집일자_y     127564 non-null  float64\n",
      " 28  조사년도          127564 non-null  float64\n",
      " 29  재무보고서구분코드     127564 non-null  float64\n",
      " 30  재무보고서명칭       127564 non-null  object \n",
      " 31  상세구분코드        127564 non-null  object \n",
      " 32  상세구분명칭        127564 non-null  object \n",
      " 33  재무제표기준년월      127564 non-null  float64\n",
      " 34  재무제표계정과목코드    127564 non-null  object \n",
      " 35  재무제표계정과목명     127564 non-null  object \n",
      " 36  재무제표계정과목금액    127564 non-null  float64\n",
      " 37  구성비율          127564 non-null  float64\n",
      " 38  증감율           127564 non-null  float64\n",
      "dtypes: float64(20), int64(5), object(14)\n",
      "memory usage: 38.9+ MB\n"
     ]
    }
   ],
   "source": [
    "p1.info()"
   ]
  },
  {
   "cell_type": "code",
   "execution_count": 27,
   "id": "ee5ed5fd",
   "metadata": {},
   "outputs": [
    {
     "data": {
      "text/plain": [
       "Index(['Unnamed: 0_x', '사업자등록번호', '데이터수집일자_x', '기업명_x', '기업영문명', '대표자명',\n",
       "       '종업원수', '종업원수기준년월', '산업분류코드', '산업분류코드설명', '기업규모', '기업형태', '업태명', '설립일',\n",
       "       '상태발생일자', 'CRI등급', 'CRI기준일', '결산일자', '매출액', '영업이익', '자본총계금액', '부채총계금액',\n",
       "       '자산총계금액', '작업구분코드_x', '데이터생성일자_x', 'Unnamed: 0_y', '순번', '데이터수집일자_y',\n",
       "       '조사년도', '재무보고서구분코드', '재무보고서명칭', '상세구분코드', '상세구분명칭', '재무제표기준년월',\n",
       "       '재무제표계정과목코드', '재무제표계정과목명', '재무제표계정과목금액', '구성비율', '증감율', 'Unnamed: 0',\n",
       "       '데이터수집일자', '기업명_y', '주소', '공기업구분', '작업구분코드_y', '데이터생성일자_y'],\n",
       "      dtype='object')"
      ]
     },
     "execution_count": 27,
     "metadata": {},
     "output_type": "execute_result"
    }
   ],
   "source": [
    "p2 = p1.merge(기업정보요약_New, on=['사업자등록번호', '대표자명', '산업분류코드', '기업규모', '기업형태', '산업분류코드설명'])\n",
    "# p2.columns\n",
    "# p2[['산업분류코드설명_x', '산업분류코드설명_y']]\n",
    "p2.columns"
   ]
  },
  {
   "cell_type": "code",
   "execution_count": 28,
   "id": "9299bb31",
   "metadata": {},
   "outputs": [],
   "source": [
    "p2.to_csv('example.csv', encoding='utf-8-sig')"
   ]
  },
  {
   "cell_type": "code",
   "execution_count": 29,
   "id": "ef9abe07",
   "metadata": {},
   "outputs": [
    {
     "ename": "KeyError",
     "evalue": "'산업분류코드_x'",
     "output_type": "error",
     "traceback": [
      "\u001b[1;31m---------------------------------------------------------------------------\u001b[0m",
      "\u001b[1;31mKeyError\u001b[0m                                  Traceback (most recent call last)",
      "File \u001b[1;32mC:\\ProgramData\\Anaconda3\\lib\\site-packages\\pandas\\core\\indexes\\base.py:3621\u001b[0m, in \u001b[0;36mIndex.get_loc\u001b[1;34m(self, key, method, tolerance)\u001b[0m\n\u001b[0;32m   3620\u001b[0m \u001b[38;5;28;01mtry\u001b[39;00m:\n\u001b[1;32m-> 3621\u001b[0m     \u001b[38;5;28;01mreturn\u001b[39;00m \u001b[38;5;28;43mself\u001b[39;49m\u001b[38;5;241;43m.\u001b[39;49m\u001b[43m_engine\u001b[49m\u001b[38;5;241;43m.\u001b[39;49m\u001b[43mget_loc\u001b[49m\u001b[43m(\u001b[49m\u001b[43mcasted_key\u001b[49m\u001b[43m)\u001b[49m\n\u001b[0;32m   3622\u001b[0m \u001b[38;5;28;01mexcept\u001b[39;00m \u001b[38;5;167;01mKeyError\u001b[39;00m \u001b[38;5;28;01mas\u001b[39;00m err:\n",
      "File \u001b[1;32mC:\\ProgramData\\Anaconda3\\lib\\site-packages\\pandas\\_libs\\index.pyx:136\u001b[0m, in \u001b[0;36mpandas._libs.index.IndexEngine.get_loc\u001b[1;34m()\u001b[0m\n",
      "File \u001b[1;32mC:\\ProgramData\\Anaconda3\\lib\\site-packages\\pandas\\_libs\\index.pyx:163\u001b[0m, in \u001b[0;36mpandas._libs.index.IndexEngine.get_loc\u001b[1;34m()\u001b[0m\n",
      "File \u001b[1;32mpandas\\_libs\\hashtable_class_helper.pxi:5198\u001b[0m, in \u001b[0;36mpandas._libs.hashtable.PyObjectHashTable.get_item\u001b[1;34m()\u001b[0m\n",
      "File \u001b[1;32mpandas\\_libs\\hashtable_class_helper.pxi:5206\u001b[0m, in \u001b[0;36mpandas._libs.hashtable.PyObjectHashTable.get_item\u001b[1;34m()\u001b[0m\n",
      "\u001b[1;31mKeyError\u001b[0m: '산업분류코드_x'",
      "\nThe above exception was the direct cause of the following exception:\n",
      "\u001b[1;31mKeyError\u001b[0m                                  Traceback (most recent call last)",
      "Input \u001b[1;32mIn [29]\u001b[0m, in \u001b[0;36m<cell line: 8>\u001b[1;34m()\u001b[0m\n\u001b[0;32m      9\u001b[0m \u001b[38;5;28;01mif\u001b[39;00m p2[\u001b[38;5;124m'\u001b[39m\u001b[38;5;124m기업명_x\u001b[39m\u001b[38;5;124m'\u001b[39m][i] \u001b[38;5;241m==\u001b[39m p2[\u001b[38;5;124m'\u001b[39m\u001b[38;5;124m기업명_y\u001b[39m\u001b[38;5;124m'\u001b[39m][i]:\n\u001b[0;32m     10\u001b[0m     result_기업명 \u001b[38;5;241m+\u001b[39m\u001b[38;5;241m=\u001b[39m \u001b[38;5;241m1\u001b[39m\n\u001b[1;32m---> 11\u001b[0m \u001b[38;5;28;01mif\u001b[39;00m \u001b[43mp2\u001b[49m\u001b[43m[\u001b[49m\u001b[38;5;124;43m'\u001b[39;49m\u001b[38;5;124;43m산업분류코드_x\u001b[39;49m\u001b[38;5;124;43m'\u001b[39;49m\u001b[43m]\u001b[49m[i] \u001b[38;5;241m==\u001b[39m p2[\u001b[38;5;124m'\u001b[39m\u001b[38;5;124m산업분류코드_y\u001b[39m\u001b[38;5;124m'\u001b[39m][i]:\n\u001b[0;32m     12\u001b[0m     result_산업분류코드 \u001b[38;5;241m+\u001b[39m\u001b[38;5;241m=\u001b[39m \u001b[38;5;241m1\u001b[39m\n\u001b[0;32m     13\u001b[0m \u001b[38;5;28;01mif\u001b[39;00m p2[\u001b[38;5;124m'\u001b[39m\u001b[38;5;124m기업규모_x\u001b[39m\u001b[38;5;124m'\u001b[39m][i] \u001b[38;5;241m==\u001b[39m p2[\u001b[38;5;124m'\u001b[39m\u001b[38;5;124m기업규모_y\u001b[39m\u001b[38;5;124m'\u001b[39m][i]:\n",
      "File \u001b[1;32mC:\\ProgramData\\Anaconda3\\lib\\site-packages\\pandas\\core\\frame.py:3505\u001b[0m, in \u001b[0;36mDataFrame.__getitem__\u001b[1;34m(self, key)\u001b[0m\n\u001b[0;32m   3503\u001b[0m \u001b[38;5;28;01mif\u001b[39;00m \u001b[38;5;28mself\u001b[39m\u001b[38;5;241m.\u001b[39mcolumns\u001b[38;5;241m.\u001b[39mnlevels \u001b[38;5;241m>\u001b[39m \u001b[38;5;241m1\u001b[39m:\n\u001b[0;32m   3504\u001b[0m     \u001b[38;5;28;01mreturn\u001b[39;00m \u001b[38;5;28mself\u001b[39m\u001b[38;5;241m.\u001b[39m_getitem_multilevel(key)\n\u001b[1;32m-> 3505\u001b[0m indexer \u001b[38;5;241m=\u001b[39m \u001b[38;5;28;43mself\u001b[39;49m\u001b[38;5;241;43m.\u001b[39;49m\u001b[43mcolumns\u001b[49m\u001b[38;5;241;43m.\u001b[39;49m\u001b[43mget_loc\u001b[49m\u001b[43m(\u001b[49m\u001b[43mkey\u001b[49m\u001b[43m)\u001b[49m\n\u001b[0;32m   3506\u001b[0m \u001b[38;5;28;01mif\u001b[39;00m is_integer(indexer):\n\u001b[0;32m   3507\u001b[0m     indexer \u001b[38;5;241m=\u001b[39m [indexer]\n",
      "File \u001b[1;32mC:\\ProgramData\\Anaconda3\\lib\\site-packages\\pandas\\core\\indexes\\base.py:3623\u001b[0m, in \u001b[0;36mIndex.get_loc\u001b[1;34m(self, key, method, tolerance)\u001b[0m\n\u001b[0;32m   3621\u001b[0m     \u001b[38;5;28;01mreturn\u001b[39;00m \u001b[38;5;28mself\u001b[39m\u001b[38;5;241m.\u001b[39m_engine\u001b[38;5;241m.\u001b[39mget_loc(casted_key)\n\u001b[0;32m   3622\u001b[0m \u001b[38;5;28;01mexcept\u001b[39;00m \u001b[38;5;167;01mKeyError\u001b[39;00m \u001b[38;5;28;01mas\u001b[39;00m err:\n\u001b[1;32m-> 3623\u001b[0m     \u001b[38;5;28;01mraise\u001b[39;00m \u001b[38;5;167;01mKeyError\u001b[39;00m(key) \u001b[38;5;28;01mfrom\u001b[39;00m \u001b[38;5;21;01merr\u001b[39;00m\n\u001b[0;32m   3624\u001b[0m \u001b[38;5;28;01mexcept\u001b[39;00m \u001b[38;5;167;01mTypeError\u001b[39;00m:\n\u001b[0;32m   3625\u001b[0m     \u001b[38;5;66;03m# If we have a listlike key, _check_indexing_error will raise\u001b[39;00m\n\u001b[0;32m   3626\u001b[0m     \u001b[38;5;66;03m#  InvalidIndexError. Otherwise we fall through and re-raise\u001b[39;00m\n\u001b[0;32m   3627\u001b[0m     \u001b[38;5;66;03m#  the TypeError.\u001b[39;00m\n\u001b[0;32m   3628\u001b[0m     \u001b[38;5;28mself\u001b[39m\u001b[38;5;241m.\u001b[39m_check_indexing_error(key)\n",
      "\u001b[1;31mKeyError\u001b[0m: '산업분류코드_x'"
     ]
    }
   ],
   "source": [
    "result_기업명 = 0\n",
    "result_대표자명 = 0\n",
    "result_산업분류코드 = 0\n",
    "result_기업규모 = 0\n",
    "result_기업형태 = 0\n",
    "result_산업분류코드설명 = 0\n",
    "\n",
    "for i in range(len(p1)):\n",
    "    if p2['기업명_x'][i] == p2['기업명_y'][i]:\n",
    "        result_기업명 += 1\n",
    "    if p2['산업분류코드_x'][i] == p2['산업분류코드_y'][i]:\n",
    "        result_산업분류코드 += 1\n",
    "    if p2['기업규모_x'][i] == p2['기업규모_y'][i]:\n",
    "        result_기업규모 += 1\n",
    "    if p2['기업형태_x'][i] == p2['기업형태_y'][i]:\n",
    "        result_기업형태 += 1\n",
    "    if p2['산업분류코드설명_x'][i] == p2['산업분류코드설명_y'][i]:\n",
    "        result_산업분류코드설명 += 1\n",
    "    else:\n",
    "        continue\n",
    "        \n",
    "print(f'result_기업명 : {result_기업명}, result_대표자명 : {result_대표자명},result_산업분류코드 : {result_산업분류코드}, result_기업규모: {result_기업규모},result_기업형태 : {result_기업형태}, result_산업분류코드설명 : {result_산업분류코드설명}  ') # 127564\n",
    "# result_기업명 : 64355, result_대표자명 : 59342,result_산업분류코드 : 3351, result_기업규모: 54,result_기업형태 : 0  "
   ]
  },
  {
   "cell_type": "code",
   "execution_count": null,
   "id": "66162199",
   "metadata": {},
   "outputs": [],
   "source": [
    "p2['기업명_x'].value_counts()"
   ]
  },
  {
   "cell_type": "code",
   "execution_count": null,
   "id": "fc324f58",
   "metadata": {},
   "outputs": [],
   "source": [
    "p2.columns"
   ]
  },
  {
   "cell_type": "code",
   "execution_count": null,
   "id": "68c94e5b",
   "metadata": {},
   "outputs": [],
   "source": [
    "for i in range(len(p1)):\n",
    "    if p2['기업명_x'][i] == p2['기업명_y'][i]:\n",
    "        result_기업명 += 1\n",
    "    else:\n",
    "        continue\n",
    "print(f'result_기업명 : {result_기업명}')"
   ]
  },
  {
   "cell_type": "code",
   "execution_count": null,
   "id": "d7bfb10e",
   "metadata": {},
   "outputs": [],
   "source": [
    "'대표자명', '산업분류코드', '기업규모', '기업형태', '산업분류코드설명'"
   ]
  },
  {
   "cell_type": "code",
   "execution_count": null,
   "id": "42d23571",
   "metadata": {},
   "outputs": [],
   "source": []
  },
  {
   "cell_type": "code",
   "execution_count": null,
   "id": "f5140b2b",
   "metadata": {},
   "outputs": [],
   "source": [
    "# 기업정보상세_New,재무제표정보_New,기업정보요약_New\n",
    "df_ex = pd.read_csv('./example.csv')\n",
    "df_ex.info() # 201706 "
   ]
  },
  {
   "cell_type": "code",
   "execution_count": null,
   "id": "95ab1d0c",
   "metadata": {},
   "outputs": [],
   "source": [
    "df_ex.drop(columns=['Unnamed: 20','상태발생일자'])"
   ]
  },
  {
   "cell_type": "code",
   "execution_count": null,
   "id": "1040b15a",
   "metadata": {},
   "outputs": [],
   "source": [
    "df_ex['상태발생일자']"
   ]
  },
  {
   "cell_type": "code",
   "execution_count": null,
   "id": "a202a66b",
   "metadata": {},
   "outputs": [],
   "source": [
    "df_ex[['자산총계금액', '부채총계금액', '자본총계금액']]"
   ]
  },
  {
   "cell_type": "code",
   "execution_count": null,
   "id": "65418aae",
   "metadata": {},
   "outputs": [],
   "source": [
    "df_ex.isnull().sum()"
   ]
  },
  {
   "cell_type": "code",
   "execution_count": null,
   "id": "fc555e61",
   "metadata": {
    "scrolled": true
   },
   "outputs": [],
   "source": [
    "df_ex.dropna()"
   ]
  },
  {
   "cell_type": "code",
   "execution_count": null,
   "id": "9f246c6a",
   "metadata": {},
   "outputs": [],
   "source": [
    "df_ex['재무보고서명칭'].value_counts()"
   ]
  },
  {
   "cell_type": "code",
   "execution_count": null,
   "id": "c1e6841c",
   "metadata": {},
   "outputs": [],
   "source": [
    "# 모든값이 anly라 drop 해도될듯\n",
    "df_ex['상세구분코드'].value_counts()\n"
   ]
  },
  {
   "cell_type": "code",
   "execution_count": null,
   "id": "3e1ce102",
   "metadata": {},
   "outputs": [],
   "source": [
    "# 모든값이 분석형이라 drop 해도될듯\n",
    "# df_ex['상세구분명칭'].value_counts()\n",
    "df_ex['결산일자'].value_counts()"
   ]
  },
  {
   "cell_type": "code",
   "execution_count": null,
   "id": "028027ce",
   "metadata": {},
   "outputs": [],
   "source": [
    "df_ex[['CRI기준일','결산일자','매출액','영업이익','자본총계금액','부채총계금액','자산총계금액']].info()#.isnull().sum()"
   ]
  },
  {
   "cell_type": "code",
   "execution_count": null,
   "id": "57e8395a",
   "metadata": {},
   "outputs": [],
   "source": [
    "df_ex.to_csv('example.csv', encoding='utf-8-sig')"
   ]
  },
  {
   "cell_type": "code",
   "execution_count": null,
   "id": "2b779e15",
   "metadata": {},
   "outputs": [],
   "source": [
    "df_ex = pd.read_csv('example.csv')"
   ]
  },
  {
   "cell_type": "code",
   "execution_count": null,
   "id": "8fad7c4e",
   "metadata": {},
   "outputs": [],
   "source": [
    "# CRI등급은 결측치가 따로 없음\n",
    "df_ex['CRI등급'].isnull().sum()#.value_counts()"
   ]
  },
  {
   "cell_type": "code",
   "execution_count": null,
   "id": "e98fd903",
   "metadata": {},
   "outputs": [],
   "source": [
    "df_ex.dropna()"
   ]
  },
  {
   "cell_type": "code",
   "execution_count": null,
   "id": "9ad7fd94",
   "metadata": {},
   "outputs": [],
   "source": [
    "df_ex['재무보고서구분코드'].value_counts()"
   ]
  },
  {
   "cell_type": "code",
   "execution_count": null,
   "id": "0e559c79",
   "metadata": {},
   "outputs": [],
   "source": [
    "# 대표자명은 필요없으므로 drop\n",
    "\n",
    "# df_ex.drop(columns=['대표자명'])"
   ]
  },
  {
   "cell_type": "code",
   "execution_count": null,
   "id": "79966c21",
   "metadata": {},
   "outputs": [],
   "source": [
    "# 재무제표기준년월\n",
    "\n",
    "def func(data):\n",
    "    data = str(data) + '01'\n",
    "    return pd.to_datetime(data)\n",
    "\n",
    "df_ex['재주제표기준_dt'] = df_ex['재무제표기준년월'].apply(func)\n",
    "df_ex['재주제표기준_year'] = df_ex['재주제표기준_dt'].dt.year\n",
    "df_ex['재주제표기준_month'] = df_ex['재주제표기준_dt'].dt.month\n",
    "df_ex[['재주제표기준_dt', '재주제표기준_year', '재주제표기준_month']]"
   ]
  },
  {
   "cell_type": "code",
   "execution_count": null,
   "id": "34b91375",
   "metadata": {},
   "outputs": [],
   "source": [
    "df_ex.to_csv('example.csv', encoding='utf-8-sig')"
   ]
  },
  {
   "cell_type": "code",
   "execution_count": null,
   "id": "688f0c5e",
   "metadata": {},
   "outputs": [],
   "source": [
    "df_ex.pivot_table(index='사업자등록번호',columns=['재주제표기준_year','재주제표기준_month'],values=['자본총계금액','부채총계금액','자산총계금액'],aggfunc='sum')\n"
   ]
  },
  {
   "cell_type": "code",
   "execution_count": null,
   "id": "a7829e5f",
   "metadata": {},
   "outputs": [],
   "source": [
    "df_ex.pivot_table(index='사업자등록번호',values=['자본총계금액','부채총계금액','자산총계금액'],aggfunc='sum').sort_values(by='자산총계금액', ascending=False)\n"
   ]
  },
  {
   "cell_type": "code",
   "execution_count": null,
   "id": "b86eebb1",
   "metadata": {},
   "outputs": [],
   "source": [
    "df_ex['자본총계금액'] - df_ex['부채총계금액']"
   ]
  },
  {
   "cell_type": "markdown",
   "id": "6ba75a86",
   "metadata": {},
   "source": []
  },
  {
   "cell_type": "code",
   "execution_count": null,
   "id": "aa3491b8",
   "metadata": {},
   "outputs": [],
   "source": [
    "df_p1 = df_ex.pivot_table(index='사업자등록번호', values=['부채총계금액', '자본총계금액', '자산총계금액'], aggfunc='sum')\n",
    "df_p1.loc[df_p1['자본총계금액'] - df_p1['부채총계금액'] > 0]"
   ]
  },
  {
   "cell_type": "code",
   "execution_count": null,
   "id": "5b942536",
   "metadata": {},
   "outputs": [],
   "source": [
    "# display all the  rows\n",
    "pd.set_option('display.max_rows', None)\n",
    "\n",
    "# display all the  columns\n",
    "pd.set_option('display.max_columns', None)\n",
    "\n",
    "# set width  - 100\n",
    "pd.set_option('display.width', None)\n",
    "\n",
    "# set column header -  left\n",
    "pd.set_option('display.colheader_justify', 'left')\n",
    "\n",
    "# set precision - 5\n",
    "pd.set_option('display.precision', None)"
   ]
  },
  {
   "cell_type": "markdown",
   "id": "5fef0fb3",
   "metadata": {},
   "source": [
    "# df_final"
   ]
  },
  {
   "cell_type": "code",
   "execution_count": null,
   "id": "eddf9515",
   "metadata": {},
   "outputs": [],
   "source": [
    "import pandas as pd"
   ]
  },
  {
   "cell_type": "code",
   "execution_count": null,
   "id": "c09981ef",
   "metadata": {},
   "outputs": [],
   "source": [
    "df_f = pd.read_csv('./final_data.csv', encoding='cp949')"
   ]
  },
  {
   "cell_type": "code",
   "execution_count": null,
   "id": "69e2731f",
   "metadata": {},
   "outputs": [],
   "source": [
    "## 전체 프린트 함수\n",
    "pd.set_option(\"display.max_rows\", None, \"display.max_columns\", None)\n",
    "# df_f.isnull().sum()"
   ]
  },
  {
   "cell_type": "markdown",
   "id": "314ae01b",
   "metadata": {},
   "source": [
    "pd.set_option(\"display.max_rows\", None, \"display.max_columns\", None)\n",
    "df_f.columns"
   ]
  },
  {
   "cell_type": "code",
   "execution_count": null,
   "id": "fd4c6707",
   "metadata": {},
   "outputs": [],
   "source": [
    "df_f.info() # row = 1,571,073, column : 111 "
   ]
  },
  {
   "cell_type": "markdown",
   "id": "5b15e77d",
   "metadata": {},
   "source": [
    "1. 당해연구종료일자 - 당해연구시작일자 \n",
    "2. 총연구기간연구종료일자 - 총연구기간연구시작일자\t\n",
    "3. "
   ]
  },
  {
   "cell_type": "code",
   "execution_count": null,
   "id": "e3df1ff9",
   "metadata": {},
   "outputs": [],
   "source": [
    "df_f['과학기술표준중분류코드'].value_counts()\n",
    "\n",
    "result = 0\n",
    "for i in df_f['과학기술표준중분류코드'].value_counts().values :\n",
    "    result += i\n",
    "result"
   ]
  },
  {
   "cell_type": "code",
   "execution_count": null,
   "id": "f60ee327",
   "metadata": {
    "scrolled": true
   },
   "outputs": [],
   "source": [
    "df_f['과학기술표준중분류명'].value_counts().values\n",
    "\n",
    "result = 0\n",
    "for i in df_f['과학기술표준중분류명'].value_counts().values :\n",
    "    result += i\n",
    "result"
   ]
  },
  {
   "cell_type": "code",
   "execution_count": null,
   "id": "82987f02",
   "metadata": {},
   "outputs": [],
   "source": [
    "df_f[['기업프로파일점수','기업프로파일등급','사업계획점수','사업계획등급','경제적책임점수','경제적책임등급','법적책임점수',\n",
    "      '법적책임등급','윤리적책임점수','윤리적책임등급','자선적책임점수','자선적책임등급']].isnull().sum()#.info()"
   ]
  },
  {
   "cell_type": "code",
   "execution_count": null,
   "id": "82381a0f",
   "metadata": {},
   "outputs": [],
   "source": [
    "df_f.isnull().sum()"
   ]
  },
  {
   "cell_type": "code",
   "execution_count": null,
   "id": "25e52fb9",
   "metadata": {},
   "outputs": [],
   "source": [
    "# 데이터를 보고 생각이 떠오르지않아 재무제표를 보면 떠오를까 검색하다보니 \n",
    "# 기업 신용도 예측과, 변수설정이 보였음 . \n",
    "# notion 정리\n",
    "\n",
    "# 자기자본,매출액,총부채,업력,주당순이익,유보액대총자산비율,금융비용부담률,금융비용대총비용비율,\n",
    "# 고정자산구성비율,재고자산대유동자산비율,\n",
    "#단기차입금대총차입금비율,현금흐름대총자본비율,\n",
    "#(영업활동으로인한현금흐름-현금배당)/(고정자산+운전자본),1인당매출액"
   ]
  },
  {
   "cell_type": "code",
   "execution_count": null,
   "id": "659ecd2b",
   "metadata": {},
   "outputs": [],
   "source": []
  },
  {
   "cell_type": "code",
   "execution_count": null,
   "id": "212eb80f",
   "metadata": {},
   "outputs": [],
   "source": []
  },
  {
   "cell_type": "code",
   "execution_count": null,
   "id": "ee7948d5",
   "metadata": {
    "scrolled": true
   },
   "outputs": [],
   "source": [
    "df_tb_bs_biz_i = pd.read_csv('C:/Users/DMC CONET/Downloads/분석유료데이터_샘플/tb_bs_biz_i.txt', sep='\u0007', header=None,names=['사업자등록번호', '데이터수집일자', '순번', '조사년도', '매출액', '산업분류코드', '기준년월', '체감전망점수', '고용전망점수',\n",
    "'사업화기반구축수준등급', '사업화기반구축수준점수', '작업구분코드', '데이터생성일자', '연계처리상태코드', '연계처리일자'])"
   ]
  },
  {
   "cell_type": "code",
   "execution_count": null,
   "id": "e12685df",
   "metadata": {},
   "outputs": [],
   "source": [
    "df_tb_bs_biz_i.to_csv('./df_tb_bs_biz_i_사업화보유역량.csv', encoding='utf-8-sig')"
   ]
  },
  {
   "cell_type": "code",
   "execution_count": null,
   "id": "ccdccaab",
   "metadata": {},
   "outputs": [],
   "source": [
    "df_tb_bs_hr_i = pd.read_csv('C:/Users/DMC CONET/Downloads/분석유료데이터_샘플/tb_bs_hr_i.txt', sep='\u0007', header=None,names=['사업자등록번호','데이터수집일자','순번','직위코드','직위명','담당업무명','학력명세',\n",
    "'주요경력사항','기준년월','종사자수','입사자수','퇴사자수','작업구분코드','데이터생성일자','연계처리상태코드','연계처리일자'])\n",
    "df_tb_bs_hr_i"
   ]
  },
  {
   "cell_type": "code",
   "execution_count": null,
   "id": "260d608d",
   "metadata": {},
   "outputs": [],
   "source": [
    "df_tb_bs_hr_i.to_csv('./df_tb_bs_hr_i_인적자원보유역량.csv', encoding='utf-8-sig')"
   ]
  },
  {
   "cell_type": "code",
   "execution_count": null,
   "id": "ee6c8b70",
   "metadata": {},
   "outputs": [],
   "source": []
  },
  {
   "cell_type": "code",
   "execution_count": null,
   "id": "215b4dc1",
   "metadata": {},
   "outputs": [],
   "source": []
  },
  {
   "cell_type": "code",
   "execution_count": null,
   "id": "f1713a8d",
   "metadata": {},
   "outputs": [],
   "source": []
  },
  {
   "cell_type": "code",
   "execution_count": null,
   "id": "5b1cad38",
   "metadata": {},
   "outputs": [],
   "source": []
  },
  {
   "cell_type": "code",
   "execution_count": null,
   "id": "48761470",
   "metadata": {},
   "outputs": [],
   "source": [
    "'사업자등록번호','데이터수집일자','순번','직위코드','직위명','담당업무명','학력명세',\n",
    "'주요경력사항','기준년월','종사자수','입사자수','퇴사자수','작업구분코드','데이터생성일자','연계처리상태코드','연계처리일자'\n"
   ]
  },
  {
   "cell_type": "code",
   "execution_count": null,
   "id": "e654d717",
   "metadata": {},
   "outputs": [],
   "source": [
    "'사업자등록번호', '데이터수집일자', '순번', '조사년도', '매출액', '산업분류코드', '기준년월', '체감전망점수', '고용전망점수',\n",
    "'사업화기반구축수준등급', '사업화기반구축수준점수', '작업구분코드', '데이터생성일자', '연계처리상태코드', '연계처리일자'"
   ]
  },
  {
   "cell_type": "code",
   "execution_count": null,
   "id": "e7b93ae8",
   "metadata": {},
   "outputs": [],
   "source": []
  },
  {
   "cell_type": "code",
   "execution_count": null,
   "id": "9f2e0a98",
   "metadata": {},
   "outputs": [],
   "source": [
    "# final_data_221123"
   ]
  },
  {
   "cell_type": "code",
   "execution_count": null,
   "id": "06390089",
   "metadata": {},
   "outputs": [],
   "source": [
    "df_ff = pd.read_csv('final_data_221123.csv', encoding='cp949')\n",
    "df_ff"
   ]
  },
  {
   "cell_type": "code",
   "execution_count": null,
   "id": "99675cae",
   "metadata": {},
   "outputs": [],
   "source": [
    "df_ff.corr()#.columns#.isnull().sum()"
   ]
  },
  {
   "cell_type": "code",
   "execution_count": null,
   "id": "66e634ba",
   "metadata": {},
   "outputs": [],
   "source": [
    "col_list = df_ff.columns.tolist()\n"
   ]
  },
  {
   "cell_type": "code",
   "execution_count": null,
   "id": "03a22f88",
   "metadata": {},
   "outputs": [],
   "source": [
    "len(col_list)"
   ]
  },
  {
   "cell_type": "code",
   "execution_count": null,
   "id": "4e135cf6",
   "metadata": {},
   "outputs": [],
   "source": [
    "pd.set_option(\"display.max_rows\", None, \"display.max_columns\", None)\n",
    "a = df_ff['사업자등록번호'].value_counts().values\n",
    "\n",
    "# datafram row 갯수는 1,657,425, 중복제거하면 115946\n",
    "\n",
    "len(a)\n",
    "\n",
    "# result = 0\n",
    "# for i in a:\n",
    "#     result += i\n",
    "# result"
   ]
  },
  {
   "cell_type": "code",
   "execution_count": null,
   "id": "5b700858",
   "metadata": {},
   "outputs": [],
   "source": []
  },
  {
   "cell_type": "code",
   "execution_count": null,
   "id": "0f132d63",
   "metadata": {},
   "outputs": [],
   "source": []
  },
  {
   "cell_type": "markdown",
   "id": "befe37b8",
   "metadata": {},
   "source": [
    "# New_data"
   ]
  },
  {
   "cell_type": "code",
   "execution_count": null,
   "id": "162f3763",
   "metadata": {},
   "outputs": [],
   "source": [
    "# csv file\n",
    "RND실적 = pd.read_csv('C:/Users/DMC CONET/selected/RND실적.csv', encoding = 'cp949',  low_memory = False)\n",
    "기술기반보유역량 = pd.read_csv('C:/Users/DMC CONET/selected/기술기반보유역량.csv', encoding = 'cp949',  low_memory = False)\n",
    "기업정보요약 = pd.read_csv('C:/Users/DMC CONET/selected/기업정보요약.csv', encoding = 'cp949',  low_memory = False)\n",
    "신용등급정보 = pd.read_csv('C:/Users/DMC CONET/selected/신용등급정보.csv', encoding = 'cp949',  low_memory = False)\n",
    "재무제표정보 = pd.read_csv('C:/Users/DMC CONET/selected/재무제표정보.csv', encoding = 'cp949',  low_memory = False)\n",
    "\n",
    "\n",
    "# txt file\n",
    "RND정보 = pd.read_csv('C:/Users/DMC CONET/selected/RND정보.txt',sep='\u0007',  low_memory = False, names=['사업자등록번호', '데이터수집일자', '최종연구개발점수', '최종연구개발등급', '연구개발투자점수', '인적자원구성원등급',\n",
    " '연구개발기술지원점수', '인적자원복지등급', '연구개발기술가치점수', '인적자원개발등급', '연구개발집약도점수',\n",
    " '연구개발참여인력점수', '연구개발연구소점수', '연구개발과제점수', '연구개발논문점수', '연구개발특허점수',\n",
    " '연구개발제품시장성점수', '연구개발제품혁신성점수', '작업구분코드', '데이터생성일자',\n",
    " '연계처리상태코드', '연계처리일자'])\n",
    "\n",
    "기술경쟁력분석 = pd.read_csv('C:/Users/DMC CONET/selected/기술경쟁력분석.txt',sep='\u0007',  low_memory = False, names =['사업자등록번호', '데이터수집일자', '조사년도',\n",
    "                     '분석기업매출액', '산업평균매출액', '분석기업매출액증감률',\n",
    "                     '산업평균매출액증감률', '기업연구개발액', '평균연구개발액', \n",
    "                     '기업연구개발액증감률', '평균연구개발액증감률', '기업특허실용신안출원건수',\n",
    "                     '평균특허실용신안출원건수', '기업특허실용신안생산력금액', '평균특허실용신안생산력금액',\n",
    "                     '작업구분코드', '데이터생성일자', '연계처리상태코드', '연계처리일자'])\n",
    "\n",
    "# 분석 전 데이터라 drop\n",
    "# 기업정보요약 = pd.read_csv('C:/Users/DMC CONET/selected/기업정보요약.txt',sep='\u0007',  low_memory = False)\n",
    "\n",
    "평판정보 = pd.read_csv('C:/Users/DMC CONET/selected/평판정보.txt',sep='\u0007',  low_memory = False, names=['사업자등록번호', '데이터수집일자', '최종평판점수', '최종평판등급', '일반평판점수', '일반평판등급', '미래평판점수', '미래평판등급', '사회적책임점수', '사회적책임등급',\n",
    "                    '대중평판점수', '대중평판등급', '고용평판점수', '고용평판등급',\n",
    "                    '신용평판점수', '신용평판등급', '기업프로파일점수', '기업프로파일등급',\n",
    "                    '사업계획점수', '사업계획등급', '경제적책임점수', '경제적책임등급',\n",
    "                    '법적책임점수', '법적책임등급', '윤리적책임점수', '윤리적책임등급',\n",
    "                    '자선적책임점수', '자선적책임등급', '작업구분코드', '데이터생성일자',\n",
    "                    '연계처리상태코드', '연계처리일자'])"
   ]
  },
  {
   "cell_type": "markdown",
   "id": "933ac185",
   "metadata": {},
   "source": [
    "## RND실적"
   ]
  },
  {
   "cell_type": "code",
   "execution_count": null,
   "id": "abb6ba18",
   "metadata": {},
   "outputs": [],
   "source": [
    "RND실적.columns#.head()"
   ]
  },
  {
   "cell_type": "markdown",
   "id": "b32580ee",
   "metadata": {},
   "source": [
    "## 기술기반보유역량"
   ]
  },
  {
   "cell_type": "code",
   "execution_count": null,
   "id": "40bbd5d9",
   "metadata": {},
   "outputs": [],
   "source": [
    "기술기반보유역량.columns#.head()"
   ]
  },
  {
   "cell_type": "code",
   "execution_count": null,
   "id": "f9417d13",
   "metadata": {},
   "outputs": [],
   "source": [
    "기술기반보유역량.head()"
   ]
  },
  {
   "cell_type": "code",
   "execution_count": null,
   "id": "9f44df2b",
   "metadata": {},
   "outputs": [],
   "source": [
    "기술기반보유역량['정부투자연구비합계'].isnull().sum()#.value_counts()#.columns"
   ]
  },
  {
   "cell_type": "code",
   "execution_count": null,
   "id": "ed03d5e9",
   "metadata": {},
   "outputs": [],
   "source": [
    "기술기반보유역량['과제건수'].value_counts() #null_value = 244976\n",
    "기술기반보유역량.pivot_table(index='사업자등록번호',columns='조사년도', values=['연구비합계','정부투자연구비합계' ], aggfunc='sum')"
   ]
  },
  {
   "cell_type": "markdown",
   "id": "f5d0f78f",
   "metadata": {},
   "source": [
    "## 신용등급정보"
   ]
  },
  {
   "cell_type": "code",
   "execution_count": null,
   "id": "abdba8c6",
   "metadata": {},
   "outputs": [],
   "source": [
    "pd.set_option(\"display.max_rows\", None, \"display.max_columns\", None)"
   ]
  },
  {
   "cell_type": "code",
   "execution_count": null,
   "id": "a400b661",
   "metadata": {},
   "outputs": [],
   "source": [
    "신용등급정보['CRI등급'].value_counts()#.head()\n",
    "\n",
    "# 방향 \n",
    "# 신용등급정보에서 cri등급 기준으로 합쳐야 한다.\n",
    "# 업종명이 살아있는 형태로 merge\n",
    "# 신용정보에선 업종명이 거의 없다. 그래서 RnD쪽에서 merge 하면 뭔가 있을듯.\n",
    "\n",
    "신용등급정보.columns\n",
    "신용등급정보['업종']\n",
    "신용등급정보.pivot_table(index='업종명', values='CRI등급')\n",
    "신용등급정보['CRI등급'].value_counts()\n",
    "# 신용등급정보.columns\n",
    "\n",
    "\n",
    "\n",
    "def func(data): # CRI등급 숫자로 맵핑\n",
    "    \n",
    "    if data == 'A1':\n",
    "        return 1\n",
    "    elif data == 'A2':\n",
    "        return 2\n",
    "    elif data == 'A3':\n",
    "        return 3\n",
    "    elif data == 'B1':\n",
    "        return 4\n",
    "    elif data == 'B2':\n",
    "        return 5\n",
    "    elif data == 'B3':\n",
    "        return 6\n",
    "    elif data == 'C1':\n",
    "        return 7\n",
    "    elif data == 'C2':\n",
    "        return 8\n",
    "    elif data == 'C3':\n",
    "        return 9\n",
    "    elif data == 'D':\n",
    "        return 10\n",
    "    elif data == 'NG':\n",
    "        return 11\n",
    "    else:\n",
    "        return data\n",
    "    \n",
    "\n",
    "신용등급정보['CRI등급_num'] = 신용등급정보['CRI등급'].apply(func)\n",
    "신용등급정보['CRI등급_num'].mean()\n",
    "신용등급정보['CRI등급_num']\n",
    "신용등급정보['CRI등급_num'].value_counts()\n",
    "신용등급정보['CRI등급_num']\n",
    "# 신용등급정보.pivot_table(index='업종명', values='CRI등급_num', aggfunc='mean') # 업종당 평균 신용등급\n",
    "신용등급정보['기업규모명'].isnull().sum()#.value_counts()\n",
    "신용등급정보.pivot_table(index='기업규모명', values='CRI등급_num', aggfunc='mean') # 기업규모당 평균 신용등급\n",
    "등급설명_info = 신용등급정보['CRI등급설명'].value_counts().index.tolist()\n",
    "# 신용등급정보.pivot_table(index='CRI등급', values='CRI등급설명')"
   ]
  },
  {
   "cell_type": "markdown",
   "id": "dc846b39",
   "metadata": {},
   "source": [
    "for i in 등급설명_info:\n",
    "    print(i.split(' '))"
   ]
  },
  {
   "cell_type": "code",
   "execution_count": null,
   "id": "62c826dd",
   "metadata": {},
   "outputs": [],
   "source": []
  },
  {
   "cell_type": "code",
   "execution_count": null,
   "id": "c883fa62",
   "metadata": {},
   "outputs": [],
   "source": []
  },
  {
   "cell_type": "markdown",
   "id": "c562bd44",
   "metadata": {},
   "source": [
    "## 재무제표정보"
   ]
  },
  {
   "cell_type": "code",
   "execution_count": null,
   "id": "91f867f2",
   "metadata": {},
   "outputs": [],
   "source": [
    "재무제표정보.columns#.head()"
   ]
  },
  {
   "cell_type": "code",
   "execution_count": null,
   "id": "eac03830",
   "metadata": {},
   "outputs": [],
   "source": [
    "재무제표정보.info() # row=86352 , column = 19"
   ]
  },
  {
   "cell_type": "code",
   "execution_count": null,
   "id": "055e00af",
   "metadata": {},
   "outputs": [],
   "source": [
    "재무제표정보.isnull().sum()\n",
    "\n",
    "#row=86352 , column = 19\n",
    "\n",
    "#null values\n",
    "\n",
    "# Unnamed: 0        0\n",
    "# 사업자등록번호           0\n",
    "# 순번                0\n",
    "# 데이터수집일자           0\n",
    "# 조사년도              0\n",
    "# 재무보고서구분코드         0\n",
    "# 재무보고서명칭           0\n",
    "# 상세구분코드        15823\n",
    "# 상세구분명칭        15823\n",
    "# 재무제표기준년월      11736\n",
    "# 재무제표계정과목코드    11736\n",
    "# 재무제표계정과목명     11736\n",
    "# 재무제표계정과목금액    27559\n",
    "# 구성비율          31307\n",
    "# 증감율           31247\n",
    "# 작업구분코드            0\n",
    "# 데이터생성일자           0\n",
    "# 연계처리상태코드      86352\n",
    "# 연계처리일자        86352"
   ]
  },
  {
   "cell_type": "code",
   "execution_count": null,
   "id": "0774662d",
   "metadata": {},
   "outputs": [],
   "source": [
    "재무제표정보.columns"
   ]
  },
  {
   "cell_type": "code",
   "execution_count": null,
   "id": "e60c286c",
   "metadata": {},
   "outputs": [],
   "source": [
    "재무제표정보.drop(columns=['연계처리상태코드', '연계처리일자']) #모두 null값이라 drop"
   ]
  },
  {
   "cell_type": "code",
   "execution_count": null,
   "id": "e851812a",
   "metadata": {},
   "outputs": [],
   "source": []
  },
  {
   "cell_type": "code",
   "execution_count": null,
   "id": "18486f3e",
   "metadata": {},
   "outputs": [],
   "source": []
  },
  {
   "cell_type": "code",
   "execution_count": null,
   "id": "8d28ae06",
   "metadata": {},
   "outputs": [],
   "source": [
    "재무제표정보['재무제표기준년월'].astype"
   ]
  },
  {
   "cell_type": "code",
   "execution_count": null,
   "id": "240c85c0",
   "metadata": {},
   "outputs": [],
   "source": [
    "# def func(data):\n",
    "#     data = str(data)[:-2]\n",
    "#     return pd.to_datetime(data + '01')\n",
    "# #     return pd.to_datetime(data)\n",
    "\n",
    "# 재무제표정보['재무제표기준년월'].apply(func)\n",
    "\n",
    "\n",
    "# 재무제표기준년월\n",
    "\n",
    "def func(data):\n",
    "    if str(data) == str:\n",
    "        data = str(data) + '01'\n",
    "        return pd.to_datetime(data)\n",
    "    else:\n",
    "        return 0\n",
    "\n",
    "재무제표정보['재주제표기준_dt'] = 재무제표정보['재무제표기준년월'].apply(func)\n",
    "# 재무제표정보['재주제표기준_year'] = 재무제표정보['재주제표기준_dt'].dt.year\n",
    "# 재무제표정보['재주제표기준_month'] = 재무제표정보['재주제표기준_dt'].dt.month\n",
    "# 재무제표정보[['재주제표기준_dt', '재주제표기준_year', '재주제표기준_month']]\n",
    "재무제표정보['재주제표기준_dt']"
   ]
  },
  {
   "cell_type": "code",
   "execution_count": null,
   "id": "124c4e72",
   "metadata": {},
   "outputs": [],
   "source": []
  },
  {
   "cell_type": "code",
   "execution_count": null,
   "id": "18727743",
   "metadata": {},
   "outputs": [],
   "source": []
  },
  {
   "cell_type": "code",
   "execution_count": null,
   "id": "6fb9a8d8",
   "metadata": {},
   "outputs": [],
   "source": []
  },
  {
   "cell_type": "markdown",
   "id": "90af51e9",
   "metadata": {},
   "source": [
    "## RND정보"
   ]
  },
  {
   "cell_type": "code",
   "execution_count": null,
   "id": "c23f5eee",
   "metadata": {},
   "outputs": [],
   "source": [
    "RND정보.columns#.head()"
   ]
  },
  {
   "cell_type": "code",
   "execution_count": null,
   "id": "dd904491",
   "metadata": {},
   "outputs": [],
   "source": [
    "RND정보.info() #row=320455 , column = 22\n",
    "\n",
    "#null values\n"
   ]
  },
  {
   "cell_type": "code",
   "execution_count": null,
   "id": "a9b35c94",
   "metadata": {},
   "outputs": [],
   "source": [
    "\n",
    "RND정보['최종연구개발등급'].value_counts()\n",
    "RND정보['최종연구개발등급'].isnull().sum()\n",
    "RND정보.columns"
   ]
  },
  {
   "cell_type": "code",
   "execution_count": null,
   "id": "797512f7",
   "metadata": {},
   "outputs": [],
   "source": [
    "RND정보.isnull().sum()\n",
    "\n",
    "#null values\n",
    "\n",
    "# 사업자등록번호             0\n",
    "# 데이터수집일자             0\n",
    "# 최종연구개발점수       290389\n",
    "# 최종연구개발등급       290389\n",
    "# 연구개발투자점수       290389\n",
    "# 인적자원구성원등급      290389\n",
    "# 연구개발기술지원점수          0\n",
    "# 인적자원복지등급       290389\n",
    "# 연구개발기술가치점수     280254\n",
    "# 인적자원개발등급       290389\n",
    "# 연구개발집약도점수      158090\n",
    "# 연구개발참여인력점수     158090\n",
    "# 연구개발연구소점수      284052\n",
    "# 연구개발과제점수       284143\n",
    "# 연구개발논문점수       290389\n",
    "# 연구개발특허점수       290389\n",
    "# 연구개발제품시장성점수    290389\n",
    "# 연구개발제품혁신성점수    290389\n",
    "# 작업구분코드              0\n",
    "# 데이터생성일자             0\n",
    "# 연계처리상태코드            0\n",
    "# 연계처리일자         320455"
   ]
  },
  {
   "cell_type": "markdown",
   "id": "6d138e98",
   "metadata": {},
   "source": [
    "## 기술경쟁력분석"
   ]
  },
  {
   "cell_type": "code",
   "execution_count": null,
   "id": "1de1af4a",
   "metadata": {},
   "outputs": [],
   "source": [
    "기술경쟁력분석.columns#.head()"
   ]
  },
  {
   "cell_type": "code",
   "execution_count": null,
   "id": "a993dff5",
   "metadata": {},
   "outputs": [],
   "source": [
    "기술경쟁력분석.info() # row = 330000, column = 19 "
   ]
  },
  {
   "cell_type": "code",
   "execution_count": null,
   "id": "6f345728",
   "metadata": {},
   "outputs": [],
   "source": [
    "기술경쟁력분석.isnull().sum()\n",
    "# 분석기업매출액, 산업평균매출액, 분석기업매출액증감률, 업연구개발액 등\n",
    "# 증감률이나 매출에 관한 널값이 너무 많다.\n",
    "\n",
    "#null values\n",
    "\n",
    "# 사업자등록번호               0\n",
    "# 데이터수집일자               0\n",
    "# 조사년도                  0\n",
    "# 분석기업매출액          304783\n",
    "# 산업평균매출액          312585\n",
    "# 분석기업매출액증감률       309134\n",
    "# 산업평균매출액증감률       105368\n",
    "# 기업연구개발액          326282\n",
    "# 평균연구개발액          161526\n",
    "# 기업연구개발액증감률       327419\n",
    "# 평균연구개발액증감률       161526\n",
    "# 기업특허실용신안출원건수     308321\n",
    "# 평균특허실용신안출원건수     318398\n",
    "# 기업특허실용신안생산력금액    328549\n",
    "# 평균특허실용신안생산력금액    318398\n",
    "# 작업구분코드                0\n",
    "# 데이터생성일자               0\n",
    "# 연계처리상태코드              0\n",
    "# 연계처리일자           330000"
   ]
  },
  {
   "cell_type": "markdown",
   "id": "6402cb5c",
   "metadata": {},
   "source": [
    "## 평판정보"
   ]
  },
  {
   "cell_type": "code",
   "execution_count": null,
   "id": "17bb51fc",
   "metadata": {},
   "outputs": [],
   "source": [
    "평판정보.info() # row = 522903 , column = 32"
   ]
  },
  {
   "cell_type": "code",
   "execution_count": null,
   "id": "30f3dde4",
   "metadata": {},
   "outputs": [],
   "source": [
    "\n",
    "평판정보.isnull().sum()\n",
    "\n",
    "#row = 522903 , column = 32\n",
    "# null values\n",
    "\n",
    "# 사업자등록번호          0\n",
    "# 데이터수집일자          0\n",
    "# 최종평판점수      507915\n",
    "# 최종평판등급      507915\n",
    "# 일반평판점수      429590\n",
    "# 일반평판등급      507915\n",
    "# 미래평판점수      429590\n",
    "# 미래평판등급      507915\n",
    "# 사회적책임점수      78714\n",
    "# 사회적책임등급     507915\n",
    "# 대중평판점수       78714\n",
    "# 대중평판등급      507915\n",
    "# 고용평판점수      507915\n",
    "# 고용평판등급      507915\n",
    "# 신용평판점수      507915\n",
    "# 신용평판등급      507915\n",
    "# 기업프로파일점수     78714\n",
    "# 기업프로파일등급    507915\n",
    "# 사업계획점수       78714\n",
    "# 사업계획등급      507915\n",
    "# 경제적책임점수      78714\n",
    "# 경제적책임등급     507915\n",
    "# 법적책임점수      507915\n",
    "# 법적책임등급      507915\n",
    "# 윤리적책임점수     507915\n",
    "# 윤리적책임등급     507915\n",
    "# 자선적책임점수     507915\n",
    "# 자선적책임등급     507915\n",
    "# 작업구분코드           0\n",
    "# 데이터생성일자          0\n",
    "# 연계처리상태코드         0\n",
    "# 연계처리일자      522903"
   ]
  },
  {
   "cell_type": "code",
   "execution_count": null,
   "id": "22f42355",
   "metadata": {},
   "outputs": [],
   "source": [
    "평판정보.columns#.head()"
   ]
  },
  {
   "cell_type": "code",
   "execution_count": null,
   "id": "45687d27",
   "metadata": {},
   "outputs": [],
   "source": [
    "평판정보"
   ]
  },
  {
   "cell_type": "code",
   "execution_count": null,
   "id": "760500b7",
   "metadata": {},
   "outputs": [],
   "source": []
  },
  {
   "cell_type": "code",
   "execution_count": null,
   "id": "f79be4e0",
   "metadata": {},
   "outputs": [],
   "source": [
    "평판정보['신용평판등급'].value_counts()"
   ]
  },
  {
   "cell_type": "markdown",
   "id": "610f5224",
   "metadata": {},
   "source": [
    "**신용등급정보, 평판정보 merge**"
   ]
  },
  {
   "cell_type": "code",
   "execution_count": null,
   "id": "c73d758e",
   "metadata": {},
   "outputs": [],
   "source": [
    "\n",
    "p1 = pd.merge(신용등급정보, 평판정보, on='사업자등록번호', how='inner')\n",
    "# p1[['신용평판등급', 'CRI등급']]\n",
    "p1.columns"
   ]
  },
  {
   "cell_type": "code",
   "execution_count": null,
   "id": "354b29b9",
   "metadata": {},
   "outputs": [],
   "source": [
    "신용등급정보['기업명'].value_counts()#.columns"
   ]
  },
  {
   "cell_type": "code",
   "execution_count": null,
   "id": "8b0bc4dc",
   "metadata": {},
   "outputs": [],
   "source": [
    "# 신용등급정보, seok_data\n",
    "\n",
    "df = pd.read_csv('소프트웨어개발.csv', encoding='cp949')\n",
    "\n",
    "\n",
    "same_count = 0\n",
    "df['BIZ_NO']\n",
    "신용등급정보['사업자등록번호']\n",
    "\n",
    "for i in df[['BIZ_NO']]:\n",
    "    for j in 신용등급정보[['사업자등록번호']]:\n",
    "        if i == j:\n",
    "            same_count+= 1\n",
    "print(f'맞는갯수 : {same_count}')"
   ]
  },
  {
   "cell_type": "code",
   "execution_count": null,
   "id": "8998e866",
   "metadata": {},
   "outputs": [],
   "source": []
  },
  {
   "cell_type": "code",
   "execution_count": null,
   "id": "86b17a95",
   "metadata": {},
   "outputs": [],
   "source": [
    "기업정보요약['기업규모'].value_counts()"
   ]
  },
  {
   "cell_type": "code",
   "execution_count": null,
   "id": "de4ac011",
   "metadata": {},
   "outputs": [],
   "source": [
    "신용등급정보['기업규모명'].value_counts()#.isnull().sum()#"
   ]
  },
  {
   "cell_type": "code",
   "execution_count": null,
   "id": "a8e3e1cf",
   "metadata": {},
   "outputs": [],
   "source": [
    "\n",
    "\n",
    "# 신용등급정보 '기업규모명'과 기업정보요약 '기업규모'가 같은 column\n",
    "\n",
    "pd.merge(신용등급정보, 기업정보요약, left_on=['사업자등록번호', '기업규모명','데이터수집일자'],\n",
    "        right_on=['사업자등록번호', '기업규모','데이터수집일자'], how='outer')"
   ]
  },
  {
   "cell_type": "code",
   "execution_count": null,
   "id": "14fccda0",
   "metadata": {},
   "outputs": [],
   "source": [
    "재무제표정보['사업자등록번호'].unique"
   ]
  },
  {
   "cell_type": "code",
   "execution_count": null,
   "id": "7ed1d84b",
   "metadata": {},
   "outputs": [],
   "source": [
    "import pandas as pd\n",
    "\n",
    "기업정보요약 = pd.read_csv('C:/Users/DMC CONET/selected/기업정보요약.csv', encoding = 'cp949',  low_memory = False)\n",
    "\n",
    "신용등급정보 = pd.read_csv('C:/Users/DMC CONET/selected/신용등급정보.csv', encoding = 'cp949',  low_memory = False)\n",
    "\n",
    "재무제표정보 = pd.read_csv('C:/Users/DMC CONET/selected/재무제표정보.csv', encoding = 'cp949',  low_memory = False)"
   ]
  },
  {
   "cell_type": "code",
   "execution_count": null,
   "id": "0ff73023",
   "metadata": {},
   "outputs": [],
   "source": [
    "기업정보요약.columns#.head()"
   ]
  },
  {
   "cell_type": "code",
   "execution_count": null,
   "id": "1faccaf5",
   "metadata": {},
   "outputs": [],
   "source": [
    "신용등급정보.columns"
   ]
  },
  {
   "cell_type": "code",
   "execution_count": null,
   "id": "3fd98be1",
   "metadata": {},
   "outputs": [],
   "source": [
    "재무제표정보.columns"
   ]
  },
  {
   "cell_type": "code",
   "execution_count": null,
   "id": "36b091a1",
   "metadata": {},
   "outputs": [],
   "source": [
    "기업정보상세 = pd.read_csv('./기업정보상세.csv')# row = 18648 , column = 34 \n",
    "기업정보상세['휴폐업구분'].value_counts()\n",
    "# 기업정보상세.info() \n",
    "cond1 = ((기업정보상세['휴폐업구분'] == '폐업') & (기업정보상세['휴폐업구분'] =='페업취소')) # 폐업했다가 폐업취소한 기업은 x\n",
    "cond1 = (기업정보상세['휴폐업구분'] == '폐업')\n",
    "기업정보상세 = 기업정보상세.loc[cond1]\n",
    "기업정보상세"
   ]
  },
  {
   "cell_type": "code",
   "execution_count": null,
   "id": "b209aaba",
   "metadata": {},
   "outputs": [],
   "source": [
    "기업정보상세"
   ]
  },
  {
   "cell_type": "code",
   "execution_count": null,
   "id": "6e8acc6c",
   "metadata": {},
   "outputs": [],
   "source": []
  }
 ],
 "metadata": {
  "kernelspec": {
   "display_name": "Python 3 (ipykernel)",
   "language": "python",
   "name": "python3"
  },
  "language_info": {
   "codemirror_mode": {
    "name": "ipython",
    "version": 3
   },
   "file_extension": ".py",
   "mimetype": "text/x-python",
   "name": "python",
   "nbconvert_exporter": "python",
   "pygments_lexer": "ipython3",
   "version": "3.9.12"
  }
 },
 "nbformat": 4,
 "nbformat_minor": 5
}
