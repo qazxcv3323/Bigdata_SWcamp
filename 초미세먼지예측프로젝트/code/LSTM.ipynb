{
 "cells": [
  {
   "cell_type": "code",
   "execution_count": 2,
   "id": "c09ce03a",
   "metadata": {},
   "outputs": [
    {
     "name": "stdout",
     "output_type": "stream",
     "text": [
      "[name: \"/device:CPU:0\"\n",
      "device_type: \"CPU\"\n",
      "memory_limit: 268435456\n",
      "locality {\n",
      "}\n",
      "incarnation: 1226042006882808289\n",
      "xla_global_id: -1\n",
      ", name: \"/device:GPU:0\"\n",
      "device_type: \"GPU\"\n",
      "memory_limit: 4039481753\n",
      "locality {\n",
      "  bus_id: 1\n",
      "  links {\n",
      "  }\n",
      "}\n",
      "incarnation: 16560990571055132363\n",
      "physical_device_desc: \"device: 0, name: NVIDIA GeForce GTX 1660 Ti, pci bus id: 0000:01:00.0, compute capability: 7.5\"\n",
      "xla_global_id: 416903419\n",
      "]\n",
      "[PhysicalDevice(name='/physical_device:GPU:0', device_type='GPU')]\n"
     ]
    }
   ],
   "source": [
    "from tensorflow.python.client import device_lib\n",
    "print(device_lib.list_local_devices())\n",
    "\n",
    "import tensorflow as tf\n",
    "# print(tf.test.is_built_with_cuda())\n",
    "print(tf.config.list_physical_devices('GPU'))\n",
    "\n"
   ]
  },
  {
   "cell_type": "code",
   "execution_count": 3,
   "id": "f1f7dfea",
   "metadata": {},
   "outputs": [
    {
     "name": "stdout",
     "output_type": "stream",
     "text": [
      "df6.shape : (68633, 25)\n",
      "df12.shape : (68633, 25) \n",
      "df24.shape : (68633, 25) \n",
      "target.shape : (68633, 1)\n"
     ]
    }
   ],
   "source": [
    "from pandas import read_csv\n",
    "from datetime import datetime\n",
    "from sklearn.preprocessing import MinMaxScaler\n",
    "\n",
    "import matplotlib as mpl\n",
    "import numpy as np\n",
    "import matplotlib.pyplot as plt\n",
    "%matplotlib inline  \n",
    "import warnings\n",
    "warnings.filterwarnings(\"ignore\", category=RuntimeWarning)\n",
    "mpl.rc('font', family = 'Malgun Gothic') # 그래프 글꼴 설정 (window)\n",
    "\n",
    "path = 'C:/Users/DMC CONET/saeyun/data/air_weather/'\n",
    "\n",
    "# df6 = read_csv(path +'df6.csv')\n",
    "# df6 = df6.drop(columns=['날짜', '6h_PM2.5'])\n",
    "# df12 = read_csv(path +'df12.csv')\n",
    "# df12 = df12.drop(columns=['날짜', '6h_PM2.5'])\n",
    "# df24 = read_csv(path +'df24.csv')\n",
    "# df24 = df24.drop(columns=['날짜', '6h_PM2.5'])\n",
    "# target = read_csv(path +'target.csv')\n",
    "\n",
    "\n",
    "df6 = read_csv(path +'df_train_6.csv')\n",
    "df6 = df6.drop(columns=['날짜'])\n",
    "df12 = read_csv(path +'df_train_12.csv')\n",
    "df12 = df12.drop(columns=['날짜'])\n",
    "df24 = read_csv(path +'df_train_24.csv')\n",
    "df24 = df24.drop(columns=['날짜'])\n",
    "target = read_csv(path +'df_train_target.csv')\n",
    "\n",
    "print(f'df6.shape : {df6.shape}\\ndf12.shape : {df12.shape} \\ndf24.shape : {df24.shape} \\ntarget.shape : {target.shape}')\n"
   ]
  },
  {
   "cell_type": "code",
   "execution_count": 4,
   "id": "894fa112",
   "metadata": {},
   "outputs": [],
   "source": [
    "from math import sqrt\n",
    "from numpy import concatenate\n",
    "from matplotlib import pyplot\n",
    "\n",
    "from pandas import read_csv\n",
    "from pandas import DataFrame\n",
    "from pandas import concat\n",
    "\n",
    "from sklearn.preprocessing import MinMaxScaler, LabelEncoder\n",
    "from sklearn.metrics import mean_squared_error\n",
    "\n",
    "from keras.models import Sequential\n",
    "from keras.layers import Dense\n",
    "from keras.layers import LSTM\n",
    "\n",
    "#from tensorflow.keras import backend\n",
    "#from keras import backend"
   ]
  },
  {
   "cell_type": "code",
   "execution_count": null,
   "id": "b9b1cb2f",
   "metadata": {},
   "outputs": [],
   "source": []
  },
  {
   "cell_type": "code",
   "execution_count": 5,
   "id": "c8e1dff3",
   "metadata": {
    "scrolled": true
   },
   "outputs": [],
   "source": [
    "df6 =df6[['PM10', 'PM2.5', '오존', '이산화질소', '일산화탄소', '아황산가스', '기온(°C)',\n",
    "       '강수량(mm)', '풍속(m/s)', '풍향(16방위)', '습도(%)' ]]\n",
    "df6['변화량'] = df6['PM2.5'] - target['PM2.5']\n",
    "df12 =df12[['PM10', 'PM2.5', '오존', '이산화질소', '일산화탄소', '아황산가스', '기온(°C)',\n",
    "       '강수량(mm)', '풍속(m/s)', '풍향(16방위)', '습도(%)' ]]\n",
    "df12['변화량'] = df12['PM2.5'] - target['PM2.5']\n",
    "df24 =df24[['PM10', 'PM2.5', '오존', '이산화질소', '일산화탄소', '아황산가스', '기온(°C)',\n",
    "       '강수량(mm)', '풍속(m/s)', '풍향(16방위)', '습도(%)' ]]\n",
    "df24['변화량'] = df24['PM2.5'] - target['PM2.5']"
   ]
  },
  {
   "cell_type": "code",
   "execution_count": 6,
   "id": "94dd66c7",
   "metadata": {},
   "outputs": [],
   "source": [
    "# features 정규화\n",
    "scaler = MinMaxScaler(feature_range=(0, 1))\n",
    "scaled_6 = scaler.fit_transform(df6)\n",
    "scaler = MinMaxScaler(feature_range=(0, 1))\n",
    "scaled_12 = scaler.fit_transform(df12)\n",
    "scaler = MinMaxScaler(feature_range=(0, 1))\n",
    "scaled_24 = scaler.fit_transform(df24)\n"
   ]
  },
  {
   "cell_type": "code",
   "execution_count": 7,
   "id": "00d298cb",
   "metadata": {},
   "outputs": [
    {
     "data": {
      "text/plain": [
       "(68633, 12)"
      ]
     },
     "execution_count": 7,
     "metadata": {},
     "output_type": "execute_result"
    }
   ],
   "source": [
    "scaled_6.shape"
   ]
  },
  {
   "cell_type": "code",
   "execution_count": 19,
   "id": "51c75c80",
   "metadata": {},
   "outputs": [
    {
     "data": {
      "text/plain": [
       "12"
      ]
     },
     "execution_count": 19,
     "metadata": {},
     "output_type": "execute_result"
    }
   ],
   "source": []
  },
  {
   "cell_type": "code",
   "execution_count": 9,
   "id": "daab274b",
   "metadata": {},
   "outputs": [
    {
     "data": {
      "text/plain": [
       "(68633, 3, 12)"
      ]
     },
     "execution_count": 9,
     "metadata": {},
     "output_type": "execute_result"
    }
   ],
   "source": [
    "x = np.concatenate([scaled_6.reshape((scaled_6.shape[0], 1, scaled_6.shape[1])),\\\n",
    "                    scaled_12.reshape((scaled_6.shape[0], 1, scaled_6.shape[1])),\\\n",
    "                    scaled_24.reshape((scaled_6.shape[0], 1,scaled_6.shape[1]))], axis=1)\n",
    "x.shape"
   ]
  },
  {
   "cell_type": "code",
   "execution_count": 10,
   "id": "caefd66d",
   "metadata": {},
   "outputs": [],
   "source": [
    "y = target"
   ]
  },
  {
   "cell_type": "code",
   "execution_count": 19,
   "id": "cae23d3d",
   "metadata": {},
   "outputs": [
    {
     "name": "stdout",
     "output_type": "stream",
     "text": [
      "(54906, 3, 12)\n",
      "(13727, 3, 12)\n",
      "(54906, 1)\n",
      "(13727, 1)\n"
     ]
    }
   ],
   "source": [
    "from sklearn.model_selection import train_test_split\n",
    "\n",
    "x_train, x_test, y_train, y_test = train_test_split(x, y, test_size=0.2, shuffle=False) #시각화를 위해 shuffle=False 옵션 사용\n",
    "\n",
    "\n",
    "print(x_train.shape)\n",
    "print(x_test.shape)\n",
    "print(y_train.shape)\n",
    "print(y_test.shape)"
   ]
  },
  {
   "cell_type": "code",
   "execution_count": 12,
   "id": "ab1fe5a7",
   "metadata": {},
   "outputs": [],
   "source": [
    "model = Sequential()\n",
    "model.add(LSTM(16, input_shape=(x_train.shape[1], x_train.shape[2]), return_sequences=True)) # , recurrent_dropout=0.2\n",
    "model.add(LSTM(8))\n",
    "model.add(Dense(4, activation='relu'))\n",
    "model.add(Dense(1))"
   ]
  },
  {
   "cell_type": "code",
   "execution_count": null,
   "id": "5573b502",
   "metadata": {},
   "outputs": [],
   "source": [
    "model = Sequential()\n",
    "model.add(LSTM(16, input_shape=(x_train.shape[1], x_train.shape[2]), return_sequences=True))\n",
    "model.add(LSTM(8))\n",
    "model.add(Dense(4, activation='relu'))\n",
    "model.add(Dense(1))"
   ]
  },
  {
   "cell_type": "code",
   "execution_count": 13,
   "id": "261da4a2",
   "metadata": {
    "scrolled": true
   },
   "outputs": [
    {
     "name": "stdout",
     "output_type": "stream",
     "text": [
      "Model: \"sequential\"\n",
      "_________________________________________________________________\n",
      " Layer (type)                Output Shape              Param #   \n",
      "=================================================================\n",
      " lstm (LSTM)                 (None, 3, 16)             1856      \n",
      "                                                                 \n",
      " lstm_1 (LSTM)               (None, 8)                 800       \n",
      "                                                                 \n",
      " dense (Dense)               (None, 4)                 36        \n",
      "                                                                 \n",
      " dense_1 (Dense)             (None, 1)                 5         \n",
      "                                                                 \n",
      "=================================================================\n",
      "Total params: 2,697\n",
      "Trainable params: 2,697\n",
      "Non-trainable params: 0\n",
      "_________________________________________________________________\n"
     ]
    }
   ],
   "source": [
    "model.summary()"
   ]
  },
  {
   "cell_type": "code",
   "execution_count": 17,
   "id": "95561b80",
   "metadata": {
    "collapsed": true
   },
   "outputs": [
    {
     "name": "stdout",
     "output_type": "stream",
     "text": [
      "1 번째 학습 시작합니다.\n",
      "\n"
     ]
    },
    {
     "ename": "NameError",
     "evalue": "name 'X_train' is not defined",
     "output_type": "error",
     "traceback": [
      "\u001b[1;31m---------------------------------------------------------------------------\u001b[0m",
      "\u001b[1;31mNameError\u001b[0m                                 Traceback (most recent call last)",
      "Input \u001b[1;32mIn [17]\u001b[0m, in \u001b[0;36m<cell line: 14>\u001b[1;34m()\u001b[0m\n\u001b[0;32m     16\u001b[0m \u001b[38;5;28mprint\u001b[39m(\u001b[38;5;124mf\u001b[39m\u001b[38;5;124m'\u001b[39m\u001b[38;5;124m'\u001b[39m)\n\u001b[0;32m     17\u001b[0m \u001b[38;5;28;01mwith\u001b[39;00m tf\u001b[38;5;241m.\u001b[39mdevice(\u001b[38;5;124m\"\u001b[39m\u001b[38;5;124m/device:GPU:0\u001b[39m\u001b[38;5;124m\"\u001b[39m):\n\u001b[1;32m---> 18\u001b[0m     history \u001b[38;5;241m=\u001b[39m model\u001b[38;5;241m.\u001b[39mfit(\u001b[43mX_train\u001b[49m, y_train,\n\u001b[0;32m     19\u001b[0m     epochs \u001b[38;5;241m=\u001b[39m EPOCHS,\n\u001b[0;32m     20\u001b[0m     batch_size \u001b[38;5;241m=\u001b[39m i,\n\u001b[0;32m     21\u001b[0m     callbacks\u001b[38;5;241m=\u001b[39m[callback],\n\u001b[0;32m     22\u001b[0m     validation_split \u001b[38;5;241m=\u001b[39m \u001b[38;5;241m0.2\u001b[39m,\n\u001b[0;32m     23\u001b[0m     validation_data\u001b[38;5;241m=\u001b[39m[X_test, y_test])\n\u001b[0;32m     24\u001b[0m y_train_pred \u001b[38;5;241m=\u001b[39m model\u001b[38;5;241m.\u001b[39mpredict(x)\n\u001b[0;32m     25\u001b[0m rmse \u001b[38;5;241m=\u001b[39m sqrt(mean_squared_error(y, y_train_pred))\n",
      "\u001b[1;31mNameError\u001b[0m: name 'X_train' is not defined"
     ]
    }
   ],
   "source": [
    "import pandas as pd\n",
    "callback = tf.keras.callbacks.EarlyStopping(monitor='val_loss', patience=5, verbose = 1)\n",
    "\n",
    "model.compile(loss='mse', optimizer='adam')\n",
    "EPOCHS = 200\n",
    "\n",
    "# fit network\n",
    "# history = model.fit(x, y, epochs=50, batch_size=, verbose=1, validation_split=0.2)\n",
    "\n",
    "rmse_df = pd.DataFrame()\n",
    "bat_list = []\n",
    "rmse_df = []\n",
    "\n",
    "for i in range(1, 40):\n",
    "    print(f'{i} 번째 학습 시작합니다.')\n",
    "    print(f'')\n",
    "    with tf.device(\"/device:GPU:0\"):\n",
    "        history = model.fit(x, y,\n",
    "        epochs = EPOCHS,\n",
    "        batch_size = i,\n",
    "        callbacks=[callback],\n",
    "        validation_split = 0.2)\n",
    "    y_train_pred = model.predict(x)\n",
    "    rmse = sqrt(mean_squared_error(y, y_train_pred))\n",
    "    bat_list.append(i)\n",
    "    rmse_df.append(rmse)\n",
    "    print('예측성능 비교지표 RMSE: %.3f' % rmse)\n",
    "    \n",
    "    # 훈련 과정 시각화 (손실)\n",
    "    plt.plot(history.history['loss'])\n",
    "    plt.plot(history.history['val_loss'])\n",
    "    plt.title('Model loss')\n",
    "    plt.xlabel('Epoch')\n",
    "    plt.ylabel('Loss')\n",
    "    plt.legend(['Train', 'Test'], loc='upper left')\n",
    "    plt.show()"
   ]
  },
  {
   "cell_type": "code",
   "execution_count": 20,
   "id": "c451e8c3",
   "metadata": {},
   "outputs": [
    {
     "name": "stdout",
     "output_type": "stream",
     "text": [
      "Epoch 1/200\n",
      "54906/54906 [==============================] - 381s 7ms/step - loss: 1.1806 - val_loss: 0.7040\n",
      "Epoch 2/200\n",
      "54906/54906 [==============================] - 366s 7ms/step - loss: 0.4075 - val_loss: 1.4795\n",
      "Epoch 3/200\n",
      "54906/54906 [==============================] - 365s 7ms/step - loss: 0.2794 - val_loss: 0.3733\n",
      "Epoch 4/200\n",
      "54906/54906 [==============================] - 378s 7ms/step - loss: 0.2232 - val_loss: 0.3537\n",
      "Epoch 5/200\n",
      "54906/54906 [==============================] - 358s 7ms/step - loss: 0.1939 - val_loss: 0.3127\n",
      "Epoch 6/200\n",
      "54906/54906 [==============================] - 350s 6ms/step - loss: 0.1731 - val_loss: 0.1043\n",
      "Epoch 7/200\n",
      "54906/54906 [==============================] - 374s 7ms/step - loss: 0.1513 - val_loss: 0.2240\n",
      "Epoch 8/200\n",
      "54906/54906 [==============================] - 356s 6ms/step - loss: 0.1367 - val_loss: 0.1261\n",
      "Epoch 9/200\n",
      "54906/54906 [==============================] - 365s 7ms/step - loss: 0.1234 - val_loss: 0.1396\n",
      "Epoch 10/200\n",
      "54906/54906 [==============================] - 384s 7ms/step - loss: 0.1066 - val_loss: 0.1595\n",
      "Epoch 11/200\n",
      "54906/54906 [==============================] - 381s 7ms/step - loss: 0.0987 - val_loss: 0.0994\n",
      "Epoch 12/200\n",
      "54906/54906 [==============================] - 383s 7ms/step - loss: 0.0952 - val_loss: 0.0944\n",
      "Epoch 13/200\n",
      "54906/54906 [==============================] - 378s 7ms/step - loss: 0.0908 - val_loss: 0.0713\n",
      "Epoch 14/200\n",
      "54906/54906 [==============================] - 375s 7ms/step - loss: 0.0860 - val_loss: 0.1802\n",
      "Epoch 15/200\n",
      "54906/54906 [==============================] - 382s 7ms/step - loss: 0.0783 - val_loss: 0.0519\n",
      "Epoch 16/200\n",
      "54906/54906 [==============================] - 400s 7ms/step - loss: 0.0735 - val_loss: 0.0562\n",
      "Epoch 17/200\n",
      "54906/54906 [==============================] - 354s 6ms/step - loss: 0.0693 - val_loss: 0.0682\n",
      "Epoch 18/200\n",
      "54906/54906 [==============================] - 353s 6ms/step - loss: 0.0645 - val_loss: 0.0585\n",
      "Epoch 19/200\n",
      "54906/54906 [==============================] - 368s 7ms/step - loss: 0.0600 - val_loss: 0.0518\n",
      "Epoch 20/200\n",
      "54906/54906 [==============================] - 379s 7ms/step - loss: 0.0641 - val_loss: 0.0955\n",
      "Epoch 21/200\n",
      "54906/54906 [==============================] - 357s 6ms/step - loss: 0.0589 - val_loss: 0.2362\n",
      "Epoch 22/200\n",
      "54906/54906 [==============================] - 356s 6ms/step - loss: 0.0545 - val_loss: 0.1124\n",
      "Epoch 23/200\n",
      "54906/54906 [==============================] - 353s 6ms/step - loss: 0.0510 - val_loss: 0.1508\n",
      "Epoch 24/200\n",
      "54906/54906 [==============================] - 373s 7ms/step - loss: 0.0488 - val_loss: 0.1272\n",
      "Epoch 24: early stopping\n",
      "2145/2145 [==============================] - 8s 3ms/step\n",
      "예측성능 비교지표 RMSE: 0.258\n"
     ]
    },
    {
     "data": {
      "image/png": "[encoded data removed]",
      "text/plain": [
       "<Figure size 432x288 with 1 Axes>"
      ]
     },
     "metadata": {
      "needs_background": "light"
     },
     "output_type": "display_data"
    }
   ],
   "source": [
    "import pandas as pd\n",
    "callback = tf.keras.callbacks.EarlyStopping(monitor='val_loss', patience=5, verbose = 1)\n",
    "\n",
    "model.compile(loss='mse', optimizer='adam')\n",
    "EPOCHS = 200\n",
    "\n",
    "# fit network\n",
    "# history = model.fit(x, y, epochs=50, batch_size=, verbose=1, validation_split=0.2)\n",
    "\n",
    "rmse_df = pd.DataFrame()\n",
    "bat_list = []\n",
    "rmse_df = []\n",
    "\n",
    "with tf.device(\"/device:GPU:0\"):\n",
    "    history = model.fit(x_train, y_train,\n",
    "    epochs = EPOCHS,\n",
    "    batch_size = 1,\n",
    "    callbacks=[callback],\n",
    "    validation_split = 0.2,\n",
    "    validation_data=[x_test, y_test])"
   ]
  },
  {
   "cell_type": "code",
   "execution_count": 22,
   "id": "c8728d40",
   "metadata": {},
   "outputs": [
    {
     "name": "stdout",
     "output_type": "stream",
     "text": [
      "429/429 [==============================] - 1s 3ms/step\n",
      "예측성능 비교지표 RMSE: 0.357\n",
      "r2_score : 0.9994518232504404\n",
      "\n"
     ]
    },
    {
     "data": {
      "image/png": "[encoded data removed]",
      "text/plain": [
       "<Figure size 432x288 with 1 Axes>"
      ]
     },
     "metadata": {
      "needs_background": "light"
     },
     "output_type": "display_data"
    }
   ],
   "source": [
    "y_test_pred = model.predict(x_test)\n",
    "from sklearn.metrics import r2_score\n",
    "rmse = sqrt(mean_squared_error(y_test, y_test_pred))\n",
    "bat_list.append(i)\n",
    "rmse_df.append(rmse)\n",
    "print('예측성능 비교지표 RMSE: %.3f' % rmse)\n",
    "print(f'r2_score : {r2_score(y_test, y_test_pred)}\\n')\n",
    "# 훈련 과정 시각화 (손실)\n",
    "plt.plot(history.history['loss'])\n",
    "plt.plot(history.history['val_loss'])\n",
    "plt.title('Model loss')\n",
    "plt.xlabel('Epoch')\n",
    "plt.ylabel('Loss')\n",
    "plt.legend(['Train', 'Test'], loc='upper left')\n",
    "plt.show()"
   ]
  },
  {
   "cell_type": "code",
   "execution_count": null,
   "id": "173907dc",
   "metadata": {},
   "outputs": [],
   "source": [
    "from sklearn.metrics import r2_score\n"
   ]
  },
  {
   "cell_type": "code",
   "execution_count": 24,
   "id": "41e0b903",
   "metadata": {
    "scrolled": true
   },
   "outputs": [
    {
     "name": "stdout",
     "output_type": "stream",
     "text": [
      "2145/2145 [==============================] - 8s 3ms/step\n",
      "예측성능 비교지표 RMSE: 8.889\n"
     ]
    }
   ],
   "source": [
    "# RMSE(Root Mean Square Error) 계산\n",
    "# https://artwook.tistory.com/152\n",
    "# https://blog.naver.com/jaysrogers/2\n",
    "\n",
    "\n",
    "\n",
    "# https://www.statisticshowto.com/probability-and-statistics/regression-analysis/rmse-root-mean-square-error/\n",
    "\n",
    "y_train_pred = model.predict(x)\n",
    "rmse = sqrt(mean_squared_error(y, y_train_pred))\n",
    "print('예측성능 비교지표 RMSE: %.3f' % rmse)   \n",
    "print('예측성능 비교지표 RMSE: %.3f' % rmse)   \n"
   ]
  },
  {
   "cell_type": "code",
   "execution_count": null,
   "id": "df1ba43f",
   "metadata": {},
   "outputs": [],
   "source": [
    "from pandas import read_csv\n",
    "from datetime import datetime\n",
    "from sklearn.preprocessing import MinMaxScaler\n",
    "\n",
    "import matplotlib as mpl\n",
    "import numpy as np\n",
    "import matplotlib.pyplot as plt\n",
    "%matplotlib inline  \n",
    "import warnings\n",
    "warnings.filterwarnings(\"ignore\", category=RuntimeWarning)\n",
    "mpl.rc('font', family = 'Malgun Gothic') # 그래프 글꼴 설정 (window)\n",
    "\n",
    "path = 'C:/Users/DMC CONET/saeyun/data/air_weather/'\n",
    "\n",
    "# df6 = read_csv(path +'df6.csv')\n",
    "# df6 = df6.drop(columns=['날짜', '6h_PM2.5'])\n",
    "# df12 = read_csv(path +'df12.csv')\n",
    "# df12 = df12.drop(columns=['날짜', '6h_PM2.5'])\n",
    "# df24 = read_csv(path +'df24.csv')\n",
    "# df24 = df24.drop(columns=['날짜', '6h_PM2.5'])\n",
    "# target = read_csv(path +'target.csv')\n",
    "\n",
    "\n",
    "df6_test = read_csv(path +'df_test_6.csv')\n",
    "# df6_test = df6.drop(columns=['날짜'])\n",
    "df12_test = read_csv(path +'df_test_12.csv')\n",
    "# df12_test = df12.drop(columns=['날짜'])\n",
    "df24_test = read_csv(path +'df_test_24.csv')\n",
    "# df24_test = df24.drop(columns=['날짜'])\n",
    "target_test = read_csv(path +'df_test_target.csv')\n",
    "\n",
    "print(f'df6.shape : {df6.shape}\\ndf12.shape : {df12.shape} \\ndf24.shape : {df24.shape} \\ntarget.shape : {target.shape}')\n"
   ]
  },
  {
   "cell_type": "code",
   "execution_count": null,
   "id": "07d908c7",
   "metadata": {},
   "outputs": [],
   "source": [
    "df6 =df6_test[['PM10', 'PM2.5', '오존', '이산화질소', '일산화탄소', '아황산가스', '기온(°C)',\n",
    "       '강수량(mm)', '풍속(m/s)', '풍향(16방위)', '습도(%)' ]]\n",
    "df12 =df12_test[['PM10', 'PM2.5', '오존', '이산화질소', '일산화탄소', '아황산가스', '기온(°C)',\n",
    "       '강수량(mm)', '풍속(m/s)', '풍향(16방위)', '습도(%)' ]]\n",
    "df24 =df24_test[['PM10', 'PM2.5', '오존', '이산화질소', '일산화탄소', '아황산가스', '기온(°C)',\n",
    "       '강수량(mm)', '풍속(m/s)', '풍향(16방위)', '습도(%)' ]]"
   ]
  },
  {
   "cell_type": "code",
   "execution_count": null,
   "id": "faece259",
   "metadata": {},
   "outputs": [],
   "source": [
    "# features 정규화\n",
    "scaler = MinMaxScaler(feature_range=(0, 1))\n",
    "scaled_6 = scaler.fit_transform(df6)\n",
    "scaler = MinMaxScaler(feature_range=(0, 1))\n",
    "scaled_12 = scaler.fit_transform(df12)\n",
    "scaler = MinMaxScaler(feature_range=(0, 1))\n",
    "scaled_24 = scaler.fit_transform(df24)\n",
    "y = target"
   ]
  },
  {
   "cell_type": "code",
   "execution_count": null,
   "id": "117e3395",
   "metadata": {},
   "outputs": [],
   "source": [
    "x = np.concatenate([scaled_6.reshape((scaled_6.shape[0], 1, scaled_6.shape[1])),\\\n",
    "                    scaled_12.reshape((scaled_6.shape[0], 1, scaled_6.shape[1])),\\\n",
    "                    scaled_24.reshape((scaled_6.shape[0], 1,scaled_6.shape[1]))], axis=1)\n",
    "x.shape"
   ]
  },
  {
   "cell_type": "code",
   "execution_count": null,
   "id": "4282e007",
   "metadata": {},
   "outputs": [],
   "source": [
    "y_test_pred = model.predict(x)"
   ]
  },
  {
   "cell_type": "code",
   "execution_count": null,
   "id": "d8a53a0c",
   "metadata": {},
   "outputs": [],
   "source": [
    "import pandas as pd"
   ]
  },
  {
   "cell_type": "code",
   "execution_count": null,
   "id": "1070aea6",
   "metadata": {},
   "outputs": [],
   "source": [
    "result = pd.DataFrame(y_test_pred, columns=['predict'])\n",
    "result['answer'] = y\n",
    "result['날짜'] = df6_test['날짜']\n",
    "\n",
    "result = result[['날짜', 'predict', 'answer']]\n",
    "\n",
    "plt.figure(figsize=(50, 15))\n",
    "plt.plot(result['answer'], color='red')\n",
    "plt.plot(result['predict'], color='blue')\n",
    "plt.show()\n",
    "\n",
    "\n",
    "# 2.5, 6_2.5 차이를 목표변수로 설정"
   ]
  },
  {
   "cell_type": "code",
   "execution_count": null,
   "id": "9c3db037",
   "metadata": {},
   "outputs": [],
   "source": [
    "# RMSE(Root Mean Square Error) 계산\n",
    "# https://artwook.tistory.com/152\n",
    "# https://blog.naver.com/jaysrogers/221737694744\n",
    "# https://www.statisticshowto.com/probability-and-statistics/regression-analysis/rmse-root-mean-square-error/\n",
    "\n",
    "y_train_pred = model.predict(x)\n",
    "rmse = sqrt(mean_squared_error(y, y_test_pred))\n",
    "print('예측성능 비교지표 RMSE: %.3f' % rmse)   \n"
   ]
  },
  {
   "cell_type": "code",
   "execution_count": null,
   "id": "50b9b485",
   "metadata": {},
   "outputs": [],
   "source": [
    "history.history"
   ]
  },
  {
   "cell_type": "code",
   "execution_count": null,
   "id": "7f252a6f",
   "metadata": {},
   "outputs": [],
   "source": [
    "# # 6 훈련 과정 시각화 (정확도)\n",
    "# plt.plot(history.history['accuracy'])\n",
    "# plt.plot(history.history['val_accuracy'])\n",
    "# plt.title('Model accuracy')\n",
    "# plt.xlabel('Epoch')\n",
    "# plt.ylabel('Accuracy')\n",
    "# plt.legend(['Train', 'Test'], loc='upper left')\n",
    "# plt.show()\n",
    "\n",
    "# 훈련 과정 시각화 (손실)\n",
    "plt.plot(history.history['loss'])\n",
    "plt.plot(history.history['val_loss'])\n",
    "plt.title('Model loss')\n",
    "plt.xlabel('Epoch')\n",
    "plt.ylabel('Loss')\n",
    "plt.legend(['Train', 'Test'], loc='upper left')\n",
    "plt.show()"
   ]
  },
  {
   "cell_type": "code",
   "execution_count": null,
   "id": "92c6a6f7",
   "metadata": {},
   "outputs": [],
   "source": []
  },
  {
   "cell_type": "code",
   "execution_count": null,
   "id": "d6893214",
   "metadata": {},
   "outputs": [],
   "source": []
  },
  {
   "cell_type": "code",
   "execution_count": null,
   "id": "ff07c42d",
   "metadata": {},
   "outputs": [],
   "source": []
  },
  {
   "cell_type": "markdown",
   "id": "ed038dc9",
   "metadata": {},
   "source": [
    "# TEST"
   ]
  },
  {
   "cell_type": "code",
   "execution_count": null,
   "id": "4e17b976",
   "metadata": {},
   "outputs": [],
   "source": [
    "pd."
   ]
  },
  {
   "cell_type": "code",
   "execution_count": null,
   "id": "f613feba",
   "metadata": {},
   "outputs": [],
   "source": []
  }
 ],
 "metadata": {
  "kernelspec": {
   "display_name": "Python 3 (ipykernel)",
   "language": "python",
   "name": "python3"
  },
  "language_info": {
   "codemirror_mode": {
    "name": "ipython",
    "version": 3
   },
   "file_extension": ".py",
   "mimetype": "text/x-python",
   "name": "python",
   "nbconvert_exporter": "python",
   "pygments_lexer": "ipython3",
   "version": "3.9.12"
  }
 },
 "nbformat": 4,
 "nbformat_minor": 5
}
